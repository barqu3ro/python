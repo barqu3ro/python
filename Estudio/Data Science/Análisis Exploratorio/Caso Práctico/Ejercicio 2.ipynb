{
 "cells": [
  {
   "cell_type": "code",
   "execution_count": 2,
   "metadata": {},
   "outputs": [
    {
     "name": "stdout",
     "output_type": "stream",
     "text": [
      "c:\\git\\Python\\python\\Estudio\\Data Science\\Análisis Exploratorio\\Caso Práctico\n"
     ]
    },
    {
     "data": {
      "text/html": [
       "<div>\n",
       "<style scoped>\n",
       "    .dataframe tbody tr th:only-of-type {\n",
       "        vertical-align: middle;\n",
       "    }\n",
       "\n",
       "    .dataframe tbody tr th {\n",
       "        vertical-align: top;\n",
       "    }\n",
       "\n",
       "    .dataframe thead th {\n",
       "        text-align: right;\n",
       "    }\n",
       "</style>\n",
       "<table border=\"1\" class=\"dataframe\">\n",
       "  <thead>\n",
       "    <tr style=\"text-align: right;\">\n",
       "      <th></th>\n",
       "      <th>Unnamed: 0</th>\n",
       "      <th>fecha_dato</th>\n",
       "      <th>ncodpers</th>\n",
       "      <th>ind_empleado</th>\n",
       "      <th>pais_residencia</th>\n",
       "      <th>sexo</th>\n",
       "      <th>age</th>\n",
       "      <th>fecha_alta</th>\n",
       "      <th>ind_nuevo</th>\n",
       "      <th>antiguedad</th>\n",
       "      <th>...</th>\n",
       "      <th>ind_hip_fin_ult1</th>\n",
       "      <th>ind_plan_fin_ult1</th>\n",
       "      <th>ind_pres_fin_ult1</th>\n",
       "      <th>ind_reca_fin_ult1</th>\n",
       "      <th>ind_tjcr_fin_ult1</th>\n",
       "      <th>ind_valo_fin_ult1</th>\n",
       "      <th>ind_viv_fin_ult1</th>\n",
       "      <th>ind_nomina_ult1</th>\n",
       "      <th>ind_nom_pens_ult1</th>\n",
       "      <th>ind_recibo_ult1</th>\n",
       "    </tr>\n",
       "  </thead>\n",
       "  <tbody>\n",
       "    <tr>\n",
       "      <th>0</th>\n",
       "      <td>0</td>\n",
       "      <td>2015-01-28</td>\n",
       "      <td>1375586</td>\n",
       "      <td>N</td>\n",
       "      <td>ES</td>\n",
       "      <td>H</td>\n",
       "      <td>35</td>\n",
       "      <td>2015-01-12</td>\n",
       "      <td>0.0</td>\n",
       "      <td>6</td>\n",
       "      <td>...</td>\n",
       "      <td>0</td>\n",
       "      <td>0</td>\n",
       "      <td>0</td>\n",
       "      <td>0</td>\n",
       "      <td>0</td>\n",
       "      <td>0</td>\n",
       "      <td>0</td>\n",
       "      <td>0.0</td>\n",
       "      <td>0.0</td>\n",
       "      <td>0</td>\n",
       "    </tr>\n",
       "    <tr>\n",
       "      <th>1</th>\n",
       "      <td>1</td>\n",
       "      <td>2015-01-28</td>\n",
       "      <td>1050611</td>\n",
       "      <td>N</td>\n",
       "      <td>ES</td>\n",
       "      <td>V</td>\n",
       "      <td>23</td>\n",
       "      <td>2012-08-10</td>\n",
       "      <td>0.0</td>\n",
       "      <td>35</td>\n",
       "      <td>...</td>\n",
       "      <td>0</td>\n",
       "      <td>0</td>\n",
       "      <td>0</td>\n",
       "      <td>0</td>\n",
       "      <td>0</td>\n",
       "      <td>0</td>\n",
       "      <td>0</td>\n",
       "      <td>0.0</td>\n",
       "      <td>0.0</td>\n",
       "      <td>0</td>\n",
       "    </tr>\n",
       "    <tr>\n",
       "      <th>2</th>\n",
       "      <td>2</td>\n",
       "      <td>2015-01-28</td>\n",
       "      <td>1050612</td>\n",
       "      <td>N</td>\n",
       "      <td>ES</td>\n",
       "      <td>V</td>\n",
       "      <td>23</td>\n",
       "      <td>2012-08-10</td>\n",
       "      <td>0.0</td>\n",
       "      <td>35</td>\n",
       "      <td>...</td>\n",
       "      <td>0</td>\n",
       "      <td>0</td>\n",
       "      <td>0</td>\n",
       "      <td>0</td>\n",
       "      <td>0</td>\n",
       "      <td>0</td>\n",
       "      <td>0</td>\n",
       "      <td>0.0</td>\n",
       "      <td>0.0</td>\n",
       "      <td>0</td>\n",
       "    </tr>\n",
       "    <tr>\n",
       "      <th>3</th>\n",
       "      <td>3</td>\n",
       "      <td>2015-01-28</td>\n",
       "      <td>1050613</td>\n",
       "      <td>N</td>\n",
       "      <td>ES</td>\n",
       "      <td>H</td>\n",
       "      <td>22</td>\n",
       "      <td>2012-08-10</td>\n",
       "      <td>0.0</td>\n",
       "      <td>35</td>\n",
       "      <td>...</td>\n",
       "      <td>0</td>\n",
       "      <td>0</td>\n",
       "      <td>0</td>\n",
       "      <td>0</td>\n",
       "      <td>0</td>\n",
       "      <td>0</td>\n",
       "      <td>0</td>\n",
       "      <td>0.0</td>\n",
       "      <td>0.0</td>\n",
       "      <td>0</td>\n",
       "    </tr>\n",
       "    <tr>\n",
       "      <th>4</th>\n",
       "      <td>4</td>\n",
       "      <td>2015-01-28</td>\n",
       "      <td>1050614</td>\n",
       "      <td>N</td>\n",
       "      <td>ES</td>\n",
       "      <td>V</td>\n",
       "      <td>23</td>\n",
       "      <td>2012-08-10</td>\n",
       "      <td>0.0</td>\n",
       "      <td>35</td>\n",
       "      <td>...</td>\n",
       "      <td>0</td>\n",
       "      <td>0</td>\n",
       "      <td>0</td>\n",
       "      <td>0</td>\n",
       "      <td>0</td>\n",
       "      <td>0</td>\n",
       "      <td>0</td>\n",
       "      <td>0.0</td>\n",
       "      <td>0.0</td>\n",
       "      <td>0</td>\n",
       "    </tr>\n",
       "  </tbody>\n",
       "</table>\n",
       "<p>5 rows × 49 columns</p>\n",
       "</div>"
      ],
      "text/plain": [
       "   Unnamed: 0  fecha_dato  ncodpers ind_empleado pais_residencia sexo  age  \\\n",
       "0           0  2015-01-28   1375586            N              ES    H   35   \n",
       "1           1  2015-01-28   1050611            N              ES    V   23   \n",
       "2           2  2015-01-28   1050612            N              ES    V   23   \n",
       "3           3  2015-01-28   1050613            N              ES    H   22   \n",
       "4           4  2015-01-28   1050614            N              ES    V   23   \n",
       "\n",
       "   fecha_alta  ind_nuevo antiguedad  ...  ind_hip_fin_ult1 ind_plan_fin_ult1  \\\n",
       "0  2015-01-12        0.0          6  ...                 0                 0   \n",
       "1  2012-08-10        0.0         35  ...                 0                 0   \n",
       "2  2012-08-10        0.0         35  ...                 0                 0   \n",
       "3  2012-08-10        0.0         35  ...                 0                 0   \n",
       "4  2012-08-10        0.0         35  ...                 0                 0   \n",
       "\n",
       "   ind_pres_fin_ult1 ind_reca_fin_ult1 ind_tjcr_fin_ult1 ind_valo_fin_ult1  \\\n",
       "0                  0                 0                 0                 0   \n",
       "1                  0                 0                 0                 0   \n",
       "2                  0                 0                 0                 0   \n",
       "3                  0                 0                 0                 0   \n",
       "4                  0                 0                 0                 0   \n",
       "\n",
       "   ind_viv_fin_ult1 ind_nomina_ult1 ind_nom_pens_ult1  ind_recibo_ult1  \n",
       "0                 0             0.0               0.0                0  \n",
       "1                 0             0.0               0.0                0  \n",
       "2                 0             0.0               0.0                0  \n",
       "3                 0             0.0               0.0                0  \n",
       "4                 0             0.0               0.0                0  \n",
       "\n",
       "[5 rows x 49 columns]"
      ]
     },
     "execution_count": 2,
     "metadata": {},
     "output_type": "execute_result"
    }
   ],
   "source": [
    "# leer el data frame\n",
    "import os\n",
    "import pandas as pd\n",
    "\n",
    "# Get the current working directory\n",
    "cwd = os.getcwd()\n",
    "\n",
    "# Define the relative path to the csv file\n",
    "csv_path = os.path.join(cwd, 'data', 'data_santander_red.csv')\n",
    "\n",
    "# Load the csv file into a pandas dataframe\n",
    "df_santander = pd.read_csv(csv_path)\n",
    "\n",
    "# get the relative address\n",
    "print(os.getcwd())\n",
    "\n",
    "# show the first 5 rows of the dataframe\n",
    "df_santander.head()"
   ]
  },
  {
   "cell_type": "markdown",
   "metadata": {},
   "source": [
    "1 - Datos Missing\n",
    "- Observar si hay tipos de datos missing y graficarlos\n"
   ]
  },
  {
   "cell_type": "code",
   "execution_count": 6,
   "metadata": {},
   "outputs": [
    {
     "data": {
      "image/png": "[encoded data removed]",
      "text/plain": [
       "<Figure size 1500x500 with 1 Axes>"
      ]
     },
     "metadata": {},
     "output_type": "display_data"
    }
   ],
   "source": [
    "\n",
    "from matplotlib import pyplot as plt\n",
    "\n",
    "missing_values = df_santander.isnull().sum()\n",
    "# Plot the missing values\n",
    "missing_values[missing_values > 0].plot(kind='bar', color='green', figsize=(15, 5))\n",
    "plt.xlabel('Columns')\n",
    "plt.ylabel('Missing Values')\n",
    "plt.title('Missing Values in the Dataset')\n",
    "plt.show()"
   ]
  },
  {
   "cell_type": "markdown",
   "metadata": {},
   "source": [
    "- Calcular el % que supone para cada variable y proponer varias soluciones para la variable “ind_nomina_ult1”. "
   ]
  },
  {
   "cell_type": "code",
   "execution_count": null,
   "metadata": {},
   "outputs": [
    {
     "name": "stdout",
     "output_type": "stream",
     "text": [
      "Unnamed: 0               100.000\n",
      "fecha_dato               100.000\n",
      "ncodpers                 100.000\n",
      "ind_empleado              99.317\n",
      "pais_residencia           99.317\n",
      "sexo                      99.317\n",
      "age                      100.000\n",
      "fecha_alta                99.317\n",
      "ind_nuevo                 99.317\n",
      "antiguedad               100.000\n",
      "indrel                    99.317\n",
      "ult_fec_cli_1t             0.128\n",
      "indrel_1mes               99.317\n",
      "tiprel_1mes               99.317\n",
      "indresi                   99.317\n",
      "indext                    99.317\n",
      "conyuemp                   0.000\n",
      "canal_entrada             99.312\n",
      "indfall                   99.317\n",
      "tipodom                   99.317\n",
      "cod_prov                  99.231\n",
      "nomprov                   99.231\n",
      "ind_actividad_cliente     99.317\n",
      "renta                     81.716\n",
      "segmento                  99.309\n",
      "ind_ahor_fin_ult1        100.000\n",
      "ind_aval_fin_ult1        100.000\n",
      "ind_cco_fin_ult1         100.000\n",
      "ind_cder_fin_ult1        100.000\n",
      "ind_cno_fin_ult1         100.000\n",
      "ind_ctju_fin_ult1        100.000\n",
      "ind_ctma_fin_ult1        100.000\n",
      "ind_ctop_fin_ult1        100.000\n",
      "ind_ctpp_fin_ult1        100.000\n",
      "ind_deco_fin_ult1        100.000\n",
      "ind_deme_fin_ult1        100.000\n",
      "ind_dela_fin_ult1        100.000\n",
      "ind_ecue_fin_ult1        100.000\n",
      "ind_fond_fin_ult1        100.000\n",
      "ind_hip_fin_ult1         100.000\n",
      "ind_plan_fin_ult1        100.000\n",
      "ind_pres_fin_ult1        100.000\n",
      "ind_reca_fin_ult1        100.000\n",
      "ind_tjcr_fin_ult1        100.000\n",
      "ind_valo_fin_ult1        100.000\n",
      "ind_viv_fin_ult1         100.000\n",
      "ind_nomina_ult1           99.790\n",
      "ind_nom_pens_ult1         99.790\n",
      "ind_recibo_ult1          100.000\n",
      "dtype: float64\n"
     ]
    }
   ],
   "source": [
    "# Calculate the percentage for each variable\n",
    "percentage = df_santander.count() / len(df_santander) * 100\n",
    "\n",
    "# Print the percentage for each variable\n",
    "print(percentage)\n"
   ]
  },
  {
   "cell_type": "markdown",
   "metadata": {},
   "source": [
    "- Reemplazar para “age” y “antigüedad” el valor “NA” por np.NaN. \n"
   ]
  },
  {
   "cell_type": "code",
   "execution_count": null,
   "metadata": {},
   "outputs": [],
   "source": [
    "df_santander['age'] = df_santander['age'].replace('NA', np.NaN)\n",
    "df_santander['antigüedad'] = df_santander['antiguedad'].replace('NA', np.NaN)"
   ]
  },
  {
   "cell_type": "markdown",
   "metadata": {},
   "source": [
    "- Si hay alguna variable que esté completamente vacía eliminarla. \n"
   ]
  },
  {
   "cell_type": "code",
   "execution_count": null,
   "metadata": {},
   "outputs": [],
   "source": [
    "df_santander.dropna(axis=1, how='all', inplace=True)"
   ]
  },
  {
   "cell_type": "markdown",
   "metadata": {},
   "source": [
    "- La variable “antigüedad” mayor de 160 años debe ser un error por lo que se debe transformar ese caso a dato no disponible (np.NaN)"
   ]
  },
  {
   "cell_type": "code",
   "execution_count": null,
   "metadata": {},
   "outputs": [
    {
     "ename": "NameError",
     "evalue": "name 'df_santander' is not defined",
     "output_type": "error",
     "traceback": [
      "\u001b[1;31m---------------------------------------------------------------------------\u001b[0m",
      "\u001b[1;31mNameError\u001b[0m                                 Traceback (most recent call last)",
      "\u001b[1;32mc:\\git\\Python\\python\\Estudio\\Data Science\\Análisis Exploratorio\\Caso Práctico\\Ejercicio 2.ipynb Cell 11\u001b[0m line \u001b[0;36m1\n\u001b[1;32m----> <a href='vscode-notebook-cell:/c%3A/git/Python/python/Estudio/Data%20Science/An%C3%A1lisis%20Exploratorio/Caso%20Pr%C3%A1ctico/Ejercicio%202.ipynb#X14sZmlsZQ%3D%3D?line=0'>1</a>\u001b[0m df_santander[\u001b[39m\"\u001b[39m\u001b[39mantiguedad\u001b[39m\u001b[39m\"\u001b[39m] \u001b[39m=\u001b[39m df_santander\u001b[39m.\u001b[39mastype(\u001b[39mfloat\u001b[39m)\n\u001b[0;32m      <a href='vscode-notebook-cell:/c%3A/git/Python/python/Estudio/Data%20Science/An%C3%A1lisis%20Exploratorio/Caso%20Pr%C3%A1ctico/Ejercicio%202.ipynb#X14sZmlsZQ%3D%3D?line=1'>2</a>\u001b[0m df_santander\u001b[39m.\u001b[39mloc[df_santander[\u001b[39m'\u001b[39m\u001b[39mantiguedad\u001b[39m\u001b[39m'\u001b[39m] \u001b[39m>\u001b[39m \u001b[39m160\u001b[39m, \u001b[39m'\u001b[39m\u001b[39mantiguedad\u001b[39m\u001b[39m'\u001b[39m] \u001b[39m=\u001b[39m np\u001b[39m.\u001b[39mNaN\n\u001b[0;32m      <a href='vscode-notebook-cell:/c%3A/git/Python/python/Estudio/Data%20Science/An%C3%A1lisis%20Exploratorio/Caso%20Pr%C3%A1ctico/Ejercicio%202.ipynb#X14sZmlsZQ%3D%3D?line=2'>3</a>\u001b[0m \u001b[39m#### AQUI ESTOY\u001b[39;00m\n\u001b[0;32m      <a href='vscode-notebook-cell:/c%3A/git/Python/python/Estudio/Data%20Science/An%C3%A1lisis%20Exploratorio/Caso%20Pr%C3%A1ctico/Ejercicio%202.ipynb#X14sZmlsZQ%3D%3D?line=3'>4</a>\u001b[0m \n\u001b[0;32m      <a href='vscode-notebook-cell:/c%3A/git/Python/python/Estudio/Data%20Science/An%C3%A1lisis%20Exploratorio/Caso%20Pr%C3%A1ctico/Ejercicio%202.ipynb#X14sZmlsZQ%3D%3D?line=4'>5</a>\u001b[0m \u001b[39m# df_santa\u001b[39;00m\n",
      "\u001b[1;31mNameError\u001b[0m: name 'df_santander' is not defined"
     ]
    }
   ],
   "source": [
    "df_santander[\"antiguedad\"] = df_santander.astype(float)\n",
    "df_santander.loc[df_santander['antiguedad'] > 160, 'antiguedad'] = np.NaN\n",
    "#### AQUI ESTOY\n",
    "\n",
    "# df_santa\n"
   ]
  }
 ],
 "metadata": {
  "kernelspec": {
   "display_name": "Python 3",
   "language": "python",
   "name": "python3"
  },
  "language_info": {
   "codemirror_mode": {
    "name": "ipython",
    "version": 3
   },
   "file_extension": ".py",
   "mimetype": "text/x-python",
   "name": "python",
   "nbconvert_exporter": "python",
   "pygments_lexer": "ipython3",
   "version": "3.11.4"
  }
 },
 "nbformat": 4,
 "nbformat_minor": 2
}
