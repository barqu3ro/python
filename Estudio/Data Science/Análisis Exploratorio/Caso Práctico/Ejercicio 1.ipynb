{
 "cells": [
  {
   "cell_type": "markdown",
   "metadata": {},
   "source": [
    "**EJERCICIO 1**\n",
    "**Estudiante: Jorge Barquero Villagra**"
   ]
  },
  {
   "cell_type": "markdown",
   "metadata": {},
   "source": [
    "En esta competición se dispone de información de año y medio de datos sobre el comportamiento de clientes en la compra de nuevos productos. Los datos empiezan el día 28/01/2015 y tiene información mensual sobre los productos que tiene un cliente como \"tarjeta de crédito\", \"cuenta de ahorros\", ... El objetivo de esta competición era predecir qué productos adquirirá en el mes de la fecha 28/06/2016. Los productos están en las columnas llamadas \"ind_(xyz)_ult1\" que son las columnas que están desde la posición 25 a la 48 en el conjunto de datos de entrenamiento. \n",
    "En los datos de la competición, data_santander_red, se puede comprobar que existe información de distintos tipos. Exactamente:\n",
    "•\tInstante temporal: identifica el momento en el que se guarda el registro\n",
    "•\tIdentificador de usuario: nos hacer un seguimiento de la persona mes a mes\n",
    "•\tDatos personales: información que identifican a una persona (edad, sexo, lugar de residencia, ...)\n",
    "•\tRelación persona/empresa: información que identifica la relación de la persona con el banco (antiguedad, indice de actividad, ...)\n",
    "•\tProductos de la persona: productos que disponía la persona el día del registro"
   ]
  },
  {
   "cell_type": "markdown",
   "metadata": {},
   "source": [
    "EJERCICIO 1 -LECTURA Y PASOS PREVIOS-: CON LOS DATOS DE DATA_SANTANDER_RED (VARIABLE “RENTA”):\n",
    "1.\tLeerlo como un dataframe (con la librería pandas) y llamarlo df_santander\n"
   ]
  },
  {
   "cell_type": "code",
   "execution_count": 2,
   "metadata": {},
   "outputs": [
    {
     "name": "stdout",
     "output_type": "stream",
     "text": [
      "c:\\git\\Python\\python\\Estudio\\Data Science\\Análisis Exploratorio\\Caso Práctico\n"
     ]
    },
    {
     "data": {
      "text/html": [
       "<div>\n",
       "<style scoped>\n",
       "    .dataframe tbody tr th:only-of-type {\n",
       "        vertical-align: middle;\n",
       "    }\n",
       "\n",
       "    .dataframe tbody tr th {\n",
       "        vertical-align: top;\n",
       "    }\n",
       "\n",
       "    .dataframe thead th {\n",
       "        text-align: right;\n",
       "    }\n",
       "</style>\n",
       "<table border=\"1\" class=\"dataframe\">\n",
       "  <thead>\n",
       "    <tr style=\"text-align: right;\">\n",
       "      <th></th>\n",
       "      <th>Unnamed: 0</th>\n",
       "      <th>fecha_dato</th>\n",
       "      <th>ncodpers</th>\n",
       "      <th>ind_empleado</th>\n",
       "      <th>pais_residencia</th>\n",
       "      <th>sexo</th>\n",
       "      <th>age</th>\n",
       "      <th>fecha_alta</th>\n",
       "      <th>ind_nuevo</th>\n",
       "      <th>antiguedad</th>\n",
       "      <th>...</th>\n",
       "      <th>ind_hip_fin_ult1</th>\n",
       "      <th>ind_plan_fin_ult1</th>\n",
       "      <th>ind_pres_fin_ult1</th>\n",
       "      <th>ind_reca_fin_ult1</th>\n",
       "      <th>ind_tjcr_fin_ult1</th>\n",
       "      <th>ind_valo_fin_ult1</th>\n",
       "      <th>ind_viv_fin_ult1</th>\n",
       "      <th>ind_nomina_ult1</th>\n",
       "      <th>ind_nom_pens_ult1</th>\n",
       "      <th>ind_recibo_ult1</th>\n",
       "    </tr>\n",
       "  </thead>\n",
       "  <tbody>\n",
       "    <tr>\n",
       "      <th>0</th>\n",
       "      <td>0</td>\n",
       "      <td>2015-01-28</td>\n",
       "      <td>1375586</td>\n",
       "      <td>N</td>\n",
       "      <td>ES</td>\n",
       "      <td>H</td>\n",
       "      <td>35</td>\n",
       "      <td>2015-01-12</td>\n",
       "      <td>0.0</td>\n",
       "      <td>6</td>\n",
       "      <td>...</td>\n",
       "      <td>0</td>\n",
       "      <td>0</td>\n",
       "      <td>0</td>\n",
       "      <td>0</td>\n",
       "      <td>0</td>\n",
       "      <td>0</td>\n",
       "      <td>0</td>\n",
       "      <td>0.0</td>\n",
       "      <td>0.0</td>\n",
       "      <td>0</td>\n",
       "    </tr>\n",
       "    <tr>\n",
       "      <th>1</th>\n",
       "      <td>1</td>\n",
       "      <td>2015-01-28</td>\n",
       "      <td>1050611</td>\n",
       "      <td>N</td>\n",
       "      <td>ES</td>\n",
       "      <td>V</td>\n",
       "      <td>23</td>\n",
       "      <td>2012-08-10</td>\n",
       "      <td>0.0</td>\n",
       "      <td>35</td>\n",
       "      <td>...</td>\n",
       "      <td>0</td>\n",
       "      <td>0</td>\n",
       "      <td>0</td>\n",
       "      <td>0</td>\n",
       "      <td>0</td>\n",
       "      <td>0</td>\n",
       "      <td>0</td>\n",
       "      <td>0.0</td>\n",
       "      <td>0.0</td>\n",
       "      <td>0</td>\n",
       "    </tr>\n",
       "    <tr>\n",
       "      <th>2</th>\n",
       "      <td>2</td>\n",
       "      <td>2015-01-28</td>\n",
       "      <td>1050612</td>\n",
       "      <td>N</td>\n",
       "      <td>ES</td>\n",
       "      <td>V</td>\n",
       "      <td>23</td>\n",
       "      <td>2012-08-10</td>\n",
       "      <td>0.0</td>\n",
       "      <td>35</td>\n",
       "      <td>...</td>\n",
       "      <td>0</td>\n",
       "      <td>0</td>\n",
       "      <td>0</td>\n",
       "      <td>0</td>\n",
       "      <td>0</td>\n",
       "      <td>0</td>\n",
       "      <td>0</td>\n",
       "      <td>0.0</td>\n",
       "      <td>0.0</td>\n",
       "      <td>0</td>\n",
       "    </tr>\n",
       "    <tr>\n",
       "      <th>3</th>\n",
       "      <td>3</td>\n",
       "      <td>2015-01-28</td>\n",
       "      <td>1050613</td>\n",
       "      <td>N</td>\n",
       "      <td>ES</td>\n",
       "      <td>H</td>\n",
       "      <td>22</td>\n",
       "      <td>2012-08-10</td>\n",
       "      <td>0.0</td>\n",
       "      <td>35</td>\n",
       "      <td>...</td>\n",
       "      <td>0</td>\n",
       "      <td>0</td>\n",
       "      <td>0</td>\n",
       "      <td>0</td>\n",
       "      <td>0</td>\n",
       "      <td>0</td>\n",
       "      <td>0</td>\n",
       "      <td>0.0</td>\n",
       "      <td>0.0</td>\n",
       "      <td>0</td>\n",
       "    </tr>\n",
       "    <tr>\n",
       "      <th>4</th>\n",
       "      <td>4</td>\n",
       "      <td>2015-01-28</td>\n",
       "      <td>1050614</td>\n",
       "      <td>N</td>\n",
       "      <td>ES</td>\n",
       "      <td>V</td>\n",
       "      <td>23</td>\n",
       "      <td>2012-08-10</td>\n",
       "      <td>0.0</td>\n",
       "      <td>35</td>\n",
       "      <td>...</td>\n",
       "      <td>0</td>\n",
       "      <td>0</td>\n",
       "      <td>0</td>\n",
       "      <td>0</td>\n",
       "      <td>0</td>\n",
       "      <td>0</td>\n",
       "      <td>0</td>\n",
       "      <td>0.0</td>\n",
       "      <td>0.0</td>\n",
       "      <td>0</td>\n",
       "    </tr>\n",
       "  </tbody>\n",
       "</table>\n",
       "<p>5 rows × 49 columns</p>\n",
       "</div>"
      ],
      "text/plain": [
       "   Unnamed: 0  fecha_dato  ncodpers ind_empleado pais_residencia sexo  age  \\\n",
       "0           0  2015-01-28   1375586            N              ES    H   35   \n",
       "1           1  2015-01-28   1050611            N              ES    V   23   \n",
       "2           2  2015-01-28   1050612            N              ES    V   23   \n",
       "3           3  2015-01-28   1050613            N              ES    H   22   \n",
       "4           4  2015-01-28   1050614            N              ES    V   23   \n",
       "\n",
       "   fecha_alta  ind_nuevo antiguedad  ...  ind_hip_fin_ult1 ind_plan_fin_ult1  \\\n",
       "0  2015-01-12        0.0          6  ...                 0                 0   \n",
       "1  2012-08-10        0.0         35  ...                 0                 0   \n",
       "2  2012-08-10        0.0         35  ...                 0                 0   \n",
       "3  2012-08-10        0.0         35  ...                 0                 0   \n",
       "4  2012-08-10        0.0         35  ...                 0                 0   \n",
       "\n",
       "   ind_pres_fin_ult1 ind_reca_fin_ult1 ind_tjcr_fin_ult1 ind_valo_fin_ult1  \\\n",
       "0                  0                 0                 0                 0   \n",
       "1                  0                 0                 0                 0   \n",
       "2                  0                 0                 0                 0   \n",
       "3                  0                 0                 0                 0   \n",
       "4                  0                 0                 0                 0   \n",
       "\n",
       "   ind_viv_fin_ult1 ind_nomina_ult1 ind_nom_pens_ult1  ind_recibo_ult1  \n",
       "0                 0             0.0               0.0                0  \n",
       "1                 0             0.0               0.0                0  \n",
       "2                 0             0.0               0.0                0  \n",
       "3                 0             0.0               0.0                0  \n",
       "4                 0             0.0               0.0                0  \n",
       "\n",
       "[5 rows x 49 columns]"
      ]
     },
     "execution_count": 2,
     "metadata": {},
     "output_type": "execute_result"
    }
   ],
   "source": [
    "# leer el data frame\n",
    "import os\n",
    "import pandas as pd\n",
    "\n",
    "# Get the current working directory\n",
    "cwd = os.getcwd()\n",
    "\n",
    "# Define the relative path to the csv file\n",
    "csv_path = os.path.join(cwd,  'data_santander_red.csv')\n",
    "\n",
    "# Load the csv file into a pandas dataframe\n",
    "df_santander = pd.read_csv(csv_path)\n",
    "\n",
    "# get the relative address\n",
    "print(os.getcwd())\n",
    "\n",
    "# show the first 5 rows of the dataframe\n",
    "df_santander.head()"
   ]
  },
  {
   "cell_type": "markdown",
   "metadata": {},
   "source": [
    "2.\tObservar los tipos de datos y cambiar “ind_viv_fin_ult1” a tipo float64 (astype(float)), ya que pretendemos usarlo en fases posteriores y se requiere que sea numérico."
   ]
  },
  {
   "cell_type": "code",
   "execution_count": 6,
   "metadata": {},
   "outputs": [],
   "source": [
    "# Se convierte el tipo de dato de la columna\n",
    "df_santander['ind_viv_fin_ult1'] = df_santander['ind_viv_fin_ult1'].astype(float)"
   ]
  },
  {
   "cell_type": "markdown",
   "metadata": {},
   "source": [
    "3.\tTratar de responder a las siguientes preguntas de entendimiento inicial de los datos:\n",
    "o\t¿Disponemos de un conjunto de datos suficientemente grande para nuestro objetivo?\n",
    "o\t¿Nos faltan variables que podrían ser interesantes?\n",
    "o\t¿Existe alguna variable que no sepamos lo que significa?\n",
    "o\t¿Alguna de las variables que tenemos tiene un tipo raro (ej: es de tipo String en vez de numérico)?\n"
   ]
  },
  {
   "cell_type": "code",
   "execution_count": null,
   "metadata": {},
   "outputs": [],
   "source": [
    "# TODO: Pendiente "
   ]
  },
  {
   "cell_type": "markdown",
   "metadata": {},
   "source": [
    "4.\tRevisar el número de provincias que existen en los datos y compararlo con las provincias de España, ¿falta alguna? (df_santander['nomprov'].nunique())"
   ]
  },
  {
   "cell_type": "code",
   "execution_count": 23,
   "metadata": {},
   "outputs": [
    {
     "name": "stdout",
     "output_type": "stream",
     "text": [
      "['MALAGA' 'CIUDAD REAL' 'ZARAGOZA' 'TOLEDO' 'LEON' 'GIPUZKOA' 'CACERES'\n",
      " 'GIRONA' 'ZAMORA' 'BARCELONA' 'SALAMANCA' 'BURGOS' 'HUESCA' 'NAVARRA'\n",
      " 'AVILA' 'SEGOVIA' 'LUGO' 'LERIDA' 'MADRID' 'ALICANTE' 'SORIA' 'SEVILLA'\n",
      " 'CANTABRIA' 'BALEARS, ILLES' 'VALLADOLID' 'PONTEVEDRA' 'VALENCIA'\n",
      " 'TERUEL' 'CORUÑA, A' 'OURENSE' 'JAEN' 'CUENCA' 'BIZKAIA' 'CASTELLON'\n",
      " 'RIOJA, LA' 'ALBACETE' 'BADAJOZ' 'MURCIA' 'CADIZ' nan 'ALMERIA'\n",
      " 'GUADALAJARA' 'PALENCIA' 'PALMAS, LAS' 'CORDOBA' 'HUELVA' 'GRANADA'\n",
      " 'ASTURIAS' 'SANTA CRUZ DE TENERIFE' 'MELILLA' 'TARRAGONA' 'ALAVA' 'CEUTA']\n",
      "Cantidad de provincias: 52\n"
     ]
    }
   ],
   "source": [
    "# Provincias \n",
    "print (df_santander['nomprov'].unique())\n",
    "\n",
    "# Son 52, están todas las provincias de España\n",
    "print(\"Cantidad de provincias: {}\".format(df_santander[\"nomprov\"].nunique()))"
   ]
  },
  {
   "cell_type": "markdown",
   "metadata": {},
   "source": [
    "5.\tOrdena las provincias alfabéticamente y luego calcula los valores únicos (unique())"
   ]
  },
  {
   "cell_type": "code",
   "execution_count": 26,
   "metadata": {},
   "outputs": [
    {
     "name": "stdout",
     "output_type": "stream",
     "text": [
      "Sorted Provinces:  ['ALAVA', 'ALBACETE', 'ALICANTE', 'ALMERIA', 'ASTURIAS', 'AVILA', 'BADAJOZ', 'BALEARS, ILLES', 'BARCELONA', 'BIZKAIA', 'BURGOS', 'CACERES', 'CADIZ', 'CANTABRIA', 'CASTELLON', 'CEUTA', 'CIUDAD REAL', 'CORDOBA', 'CORUÑA, A', 'CUENCA', 'GIPUZKOA', 'GIRONA', 'GRANADA', 'GUADALAJARA', 'HUELVA', 'HUESCA', 'JAEN', 'LEON', 'LERIDA', 'LUGO', 'MADRID', 'MALAGA', 'MELILLA', 'MURCIA', 'NAVARRA', 'OURENSE', 'PALENCIA', 'PALMAS, LAS', 'PONTEVEDRA', 'RIOJA, LA', 'SALAMANCA', 'SANTA CRUZ DE TENERIFE', 'SEGOVIA', 'SEVILLA', 'SORIA', 'TARRAGONA', 'TERUEL', 'TOLEDO', 'VALENCIA', 'VALLADOLID', 'ZAMORA', 'ZARAGOZA', 'nan']\n",
      "Unique Provinces:  53\n"
     ]
    }
   ],
   "source": [
    "# Se convierte el tipo de dato de la columna nomprov a string\n",
    "df_santander['nomprov'] = df_santander['nomprov'].astype(str)\n",
    "\n",
    "# Ordenar las provincias de forma alfabética\n",
    "sorted_provinces = sorted(df_santander['nomprov'].unique())\n",
    "\n",
    "# Calcular la cantidad de provincias únicas\n",
    "unique_provinces = len(sorted_provinces)\n",
    "\n",
    "# Print the sorted provinces and the number of unique provinces\n",
    "print(\"Sorted Provinces: \", sorted_provinces)\n",
    "print(\"Unique Provinces: \", unique_provinces)\n"
   ]
  },
  {
   "cell_type": "markdown",
   "metadata": {},
   "source": [
    "6.\tRevisa si los datos de los clientes que tenemos están homogéneamente distribuidos en España o se centran más en algunas provincias que en otras."
   ]
  },
  {
   "cell_type": "code",
   "execution_count": 27,
   "metadata": {},
   "outputs": [
    {
     "name": "stdout",
     "output_type": "stream",
     "text": [
      "nomprov\n",
      "MADRID                    16113\n",
      "BARCELONA                 11080\n",
      "SEVILLA                    5261\n",
      "CORUÑA, A                  5211\n",
      "MURCIA                     4140\n",
      "PONTEVEDRA                 3726\n",
      "MALAGA                     3661\n",
      "CADIZ                      3348\n",
      "VALENCIA                   3186\n",
      "ZARAGOZA                   2816\n",
      "BADAJOZ                    2754\n",
      "ALICANTE                   2364\n",
      "VALLADOLID                 2194\n",
      "SALAMANCA                  2098\n",
      "ASTURIAS                   1965\n",
      "CACERES                    1912\n",
      "CORDOBA                    1820\n",
      "HUELVA                     1691\n",
      "TOLEDO                     1688\n",
      "PALMAS, LAS                1568\n",
      "LUGO                       1258\n",
      "CASTELLON                  1254\n",
      "CIUDAD REAL                1213\n",
      "ALBACETE                   1203\n",
      "OURENSE                    1137\n",
      "LERIDA                     1118\n",
      "GIRONA                     1106\n",
      "CANTABRIA                  1035\n",
      "BURGOS                     1006\n",
      "GRANADA                     918\n",
      "BALEARS, ILLES              770\n",
      "nan                         769\n",
      "CUENCA                      755\n",
      "ZAMORA                      710\n",
      "TARRAGONA                   701\n",
      "RIOJA, LA                   697\n",
      "NAVARRA                     565\n",
      "PALENCIA                    555\n",
      "LEON                        554\n",
      "JAEN                        473\n",
      "BIZKAIA                     449\n",
      "AVILA                       442\n",
      "HUESCA                      434\n",
      "SEGOVIA                     391\n",
      "ALMERIA                     358\n",
      "SANTA CRUZ DE TENERIFE      339\n",
      "GUADALAJARA                 338\n",
      "GIPUZKOA                    232\n",
      "TERUEL                      224\n",
      "ALAVA                       156\n",
      "SORIA                       156\n",
      "MELILLA                      49\n",
      "CEUTA                        39\n",
      "Name: count, dtype: int64\n"
     ]
    }
   ],
   "source": [
    "province_counts = df_santander['nomprov'].value_counts()\n",
    "\n",
    "print(province_counts)\n",
    "\n",
    "# Los datos están distribuidos en Madrid y Barcelona mayoritariamente.\n"
   ]
  }
 ],
 "metadata": {
  "kernelspec": {
   "display_name": "Python 3",
   "language": "python",
   "name": "python3"
  },
  "language_info": {
   "codemirror_mode": {
    "name": "ipython",
    "version": 3
   },
   "file_extension": ".py",
   "mimetype": "text/x-python",
   "name": "python",
   "nbconvert_exporter": "python",
   "pygments_lexer": "ipython3",
   "version": "3.11.4"
  }
 },
 "nbformat": 4,
 "nbformat_minor": 2
}
