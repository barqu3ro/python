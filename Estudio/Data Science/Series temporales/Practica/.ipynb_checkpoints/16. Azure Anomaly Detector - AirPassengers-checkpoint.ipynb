{
 "cells": [
  {
   "cell_type": "markdown",
   "metadata": {},
   "source": [
    "# Azure Anomaly Detector - Air Passengers"
   ]
  },
  {
   "cell_type": "code",
   "execution_count": null,
   "metadata": {},
   "outputs": [],
   "source": [
    "#pip install azure-ai"
   ]
  },
  {
   "cell_type": "code",
   "execution_count": null,
   "metadata": {
    "scrolled": true
   },
   "outputs": [],
   "source": [
    "#pip install azureml"
   ]
  },
  {
   "cell_type": "code",
   "execution_count": null,
   "metadata": {},
   "outputs": [],
   "source": [
    "#pip install azure-ai-ml"
   ]
  },
  {
   "cell_type": "code",
   "execution_count": null,
   "metadata": {},
   "outputs": [],
   "source": [
    "#pip install azure"
   ]
  },
  {
   "cell_type": "code",
   "execution_count": null,
   "metadata": {
    "scrolled": true
   },
   "outputs": [],
   "source": [
    "#pip install --force-reinstall azure.ai.anomalydetector==3.0.0b1"
   ]
  },
  {
   "cell_type": "code",
   "execution_count": null,
   "metadata": {
    "scrolled": true
   },
   "outputs": [],
   "source": [
    "#pip install --upgrade azure.ai.anomalydetector"
   ]
  },
  {
   "cell_type": "code",
   "execution_count": null,
   "metadata": {},
   "outputs": [],
   "source": [
    "import warnings\n",
    "warnings.filterwarnings(action=\"ignore\")\n",
    "\n",
    "import requests\n",
    "import json\n",
    "\n",
    "import pandas as pd\n",
    "import numpy as np\n",
    "from matplotlib import pyplot as plt\n",
    "from matplotlib.pyplot import figure\n",
    "\n",
    "from datetime import datetime, timedelta\n",
    "\n",
    "from sklearn.metrics import mean_squared_error\n",
    "from math import sqrt\n",
    "\n",
    "from azure.ai.anomalydetector import AnomalyDetectorClient\n",
    "from azure.core.credentials import AzureKeyCredential\n",
    "from azure.ai.anomalydetector.models import *"
   ]
  },
  {
   "cell_type": "code",
   "execution_count": null,
   "metadata": {},
   "outputs": [],
   "source": [
    "# Cargamos el dataset\n",
    "real = pd.read_csv('data/AirPassengers.csv', header = 0, parse_dates = [0], names = ['Month', 'Passengers'], index_col = 0)\n",
    "\n",
    "ax = real.plot(figsize=(18,6), title='Custom Time Series');\n",
    "ax.set_xlabel(\"Años\");\n",
    "ax.set_ylabel(\"# Pasajeros\");"
   ]
  },
  {
   "cell_type": "code",
   "execution_count": null,
   "metadata": {},
   "outputs": [],
   "source": [
    "def splitSet(df, TEST_SIZE):\n",
    "    \n",
    "    # Train set\n",
    "    train_full = df[:(int(len(df)*(1-TEST_SIZE)))]\n",
    "    train = train_full[:(int(len(train_full)*(1-TEST_SIZE)))]\n",
    "\n",
    "    # Validation set\n",
    "    valid = train_full[(int(len(train_full)*(1-TEST_SIZE))):]\n",
    "\n",
    "    # Test set\n",
    "    test = df[(int(len(df)*(1-TEST_SIZE))):]\n",
    "\n",
    "    return train, valid, test"
   ]
  },
  {
   "cell_type": "code",
   "execution_count": null,
   "metadata": {},
   "outputs": [],
   "source": [
    "# Split dataset\n",
    "TEST_SIZE = 0.24\n",
    "train, valid, test = splitSet(real, TEST_SIZE)\n",
    "\n",
    "# Trabajamos sólo con train y test\n",
    "train = pd.concat([train, valid], axis=0)\n",
    "\n",
    "# Visualización\n",
    "ax = real.plot(figsize=(18,6), title='Pasajeros de avión');\n",
    "\n",
    "init__limit = real.index[0]\n",
    "train_limit = real.index[len(train)-1]\n",
    "test__limit = real.index[len(train)+len(test)-1]\n",
    "\n",
    "ax.axvline(train_limit, linestyle='--', color='blue')\n",
    "ax.axvline(test__limit, linestyle='--', color='red')\n",
    "\n",
    "ax.axvspan(init__limit, train_limit, alpha=0.1, color='blue')\n",
    "ax.axvspan(train_limit, test__limit, alpha=0.1, color='red')\n",
    "\n",
    "ax.text(real.index[int((len(train)-1)*0.5)], 610, 'Train set', fontsize=18)\n",
    "ax.text(real.index[int(len(train)+(len(test)-1)*0.3)], 610, 'Test set', fontsize=18)\n",
    "\n",
    "ax.grid(linestyle='--')\n",
    "\n",
    "ax.set_xlabel(\"Fecha\");\n",
    "ax.set_ylabel(\"Pasajeros\");"
   ]
  },
  {
   "cell_type": "code",
   "execution_count": null,
   "metadata": {},
   "outputs": [],
   "source": [
    "airPassMetrics = pd.DataFrame(columns=['Model', 'RMSE'])"
   ]
  },
  {
   "cell_type": "markdown",
   "metadata": {},
   "source": [
    "## Azure Anomaly Detector"
   ]
  },
  {
   "cell_type": "code",
   "execution_count": null,
   "metadata": {},
   "outputs": [],
   "source": [
    "SUBSCRIPTION_KEY = 'XXX'\n",
    "ANOMALY_DETECTOR_ENDPOINT = 'https://XXX.cognitiveservices.azure.com/'\n",
    "\n",
    "FORMAT_TIME = '%Y-%m-%d'\n",
    "\n",
    "GRANULARITY = 'monthly'\n",
    "SENSITIVITY = 90\n",
    "CUSTOM_INTERVAL=1"
   ]
  },
  {
   "cell_type": "code",
   "execution_count": null,
   "metadata": {},
   "outputs": [],
   "source": [
    "# Create the result dataframe\n",
    "dt_detect = pd.DataFrame()\n",
    "\n",
    "# Drop Duplicates\n",
    "dt_detect = real.drop_duplicates()\n",
    "\n",
    "# Order by timestamp (important to use the Anomaly Detector API)\n",
    "dt_detect.index = pd.to_datetime(dt_detect.index, format=FORMAT_TIME, utc=True)\n",
    "\n",
    "# To work with Anomaly API, at least 12 points of data.\n",
    "if len(dt_detect) >= 12:\n",
    "\n",
    "    # Create the dataframe will be used on API\n",
    "    anom = pd.DataFrame()\n",
    "    anom['ds'] = dt_detect.index\n",
    "    anom['value'] = dt_detect['Passengers'].values\n",
    "\n",
    "    # Client to work with the API\n",
    "    client = AnomalyDetectorClient(ANOMALY_DETECTOR_ENDPOINT, AzureKeyCredential(SUBSCRIPTION_KEY))\n",
    "\n",
    "    # Create the series as TimeSeriesPoint object\n",
    "    series = []\n",
    "    for index, row in anom.iterrows():\n",
    "        series.append(TimeSeriesPoint(timestamp=row[0], value=row[1]))\n",
    "\n",
    "    # Detect anomalies - Entire Series\n",
    "    request = UnivariateDetectionOptions(series=series, granularity=TimeGranularity.DAILY, sensitivity=SENSITIVITY)\n",
    "\n",
    "    \n",
    "    series = []\n",
    "    for index, row in data_file.iterrows():\n",
    "        series.append(TimeSeriesPoint(timestamp=row[0], value=row[1]))\n",
    "\n",
    "    request = UnivariateDetectionOptions(\n",
    "        series=series,\n",
    "        granularity=TimeGranularity.DAILY,\n",
    "    )\n",
    "        \n",
    "    try:\n",
    "        change_point_response = client.detect_univariate_change_point(request)\n",
    "        anomaly_response = client.detect_univariate_entire_series(request)\n",
    "    except AnomalyDetectorError as e:\n",
    "        print('Error code: {}'.format(e.error.code), 'Error message: {}'.format(e.error.message))\n",
    "    except Exception as e:\n",
    "        print(e)\n",
    "        \n",
    "    # Save the anomaly information on the dataset\n",
    "    dt_detect['expectedValues'] = response.expected_values\n",
    "    dt_detect['upperMargins'] = response.upper_margins\n",
    "    dt_detect['lowerMargins'] = response.lower_margins\n",
    "    dt_detect['isAnomaly'] = response.is_anomaly\n",
    "    dt_detect['isPositiveAnomaly'] = response.is_positive_anomaly\n",
    "    dt_detect['isNegativeAnomaly'] = response.is_negative_anomaly\n",
    "    dt_detect['period'] = response.period"
   ]
  },
  {
   "cell_type": "code",
   "execution_count": null,
   "metadata": {},
   "outputs": [],
   "source": [
    "dt_detect.head()"
   ]
  },
  {
   "cell_type": "code",
   "execution_count": null,
   "metadata": {},
   "outputs": [],
   "source": [
    "# Model\n",
    "MODEL = 'Azure Anomaly Detector'\n",
    "\n",
    "# Get Train and Test Set Predictions\n",
    "train_pred, valid_pred, test_pred = splitSet(dt_detect)\n",
    "train_pred = pd.concat([train_pred, valid_pred], axis=0)\n",
    "\n",
    "# Get RMSE from Test Set\n",
    "real_values = test_pred['#Passengers']\n",
    "pred_values = test_pred['expectedValues']\n",
    "rmse = sqrt(mean_squared_error(real_values, pred_values))\n",
    "\n",
    "# Preparing data to plot\n",
    "real_plot = real['#Passengers']\n",
    "pred_plot = dt_detect['expectedValues']\n",
    "up_margin = dt_detect.apply(lambda x: x['expectedValues'] + (x['upperMargins']), axis=1)\n",
    "lowmargin = dt_detect.apply(lambda x: x['expectedValues'] - (x['lowerMargins']), axis=1)\n",
    "\n",
    "# Visualization\n",
    "figure(figsize=(18, 6))\n",
    "\n",
    "real_plot.plot(label='Real Value')\n",
    "pred_plot.plot(label='Predictions', color='red')\n",
    "plt.suptitle(MODEL + ' - RMSE: ' + str(np.round(rmse, 3)), fontsize=20)\n",
    "plt.title('Sensitivity: ' + str(SENSITIVITY) + ' -> #Anomalies: ' + str(len(dt_detect[dt_detect['isAnomaly']==True])), fontsize=18)\n",
    "\n",
    "plt.axvline(train_limit, linestyle='--', color='blue');\n",
    "plt.axvline(test__limit, linestyle='--', color='red');\n",
    "\n",
    "plt.axvspan(init__limit, train_limit, alpha=0.1, color='blue');\n",
    "plt.axvspan(train_limit, test__limit, alpha=0.1, color='red');\n",
    "\n",
    "up_margin.plot(label='Up Boundary', linestyle='--', color='cyan')\n",
    "lowmargin.plot(label='Low Boundary', linestyle='--', color='cyan')\n",
    "\n",
    "plt.fill_between(up_margin.index, up_margin, lowmargin, alpha=0.2, color='c')\n",
    "\n",
    "for line in dt_detect.index[dt_detect.isAnomaly==True].tolist():\n",
    "    YMAX = (dt_detect[dt_detect.index == line]['#Passengers'][0] / max(real_plot))-0.05\n",
    "    plt.axvline(line, linestyle=':', color='green', ymax=YMAX)\n",
    "    \n",
    "plt.legend();\n",
    "plt.grid()"
   ]
  },
  {
   "cell_type": "code",
   "execution_count": null,
   "metadata": {},
   "outputs": [],
   "source": []
  }
 ],
 "metadata": {
  "kernelspec": {
   "display_name": "Python 3 (ipykernel)",
   "language": "python",
   "name": "python3"
  },
  "language_info": {
   "codemirror_mode": {
    "name": "ipython",
    "version": 3
   },
   "file_extension": ".py",
   "mimetype": "text/x-python",
   "name": "python",
   "nbconvert_exporter": "python",
   "pygments_lexer": "ipython3",
   "version": "3.8.18"
  }
 },
 "nbformat": 4,
 "nbformat_minor": 4
}
