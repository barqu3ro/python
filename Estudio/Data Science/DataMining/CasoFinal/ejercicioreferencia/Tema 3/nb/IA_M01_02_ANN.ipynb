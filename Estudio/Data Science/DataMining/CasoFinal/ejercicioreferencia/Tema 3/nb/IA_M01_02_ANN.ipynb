{
 "cells": [
  {
   "cell_type": "code",
   "execution_count": 1,
   "metadata": {
    "id": "nLpeebrlsVnw"
   },
   "outputs": [],
   "source": [
    "# Librerías a usar\n",
    "import tensorflow as tf\n",
    "from tensorflow import keras\n",
    "import numpy as np\n",
    "import pandas as pd\n",
    "import matplotlib.pyplot as plt"
   ]
  },
  {
   "cell_type": "code",
   "execution_count": 2,
   "metadata": {
    "colab": {
     "base_uri": "https://localhost:8080/"
    },
    "id": "q5MLe-sSsz1O",
    "outputId": "699b2c0e-269a-432c-c1a3-a46bc8e5dcd7"
   },
   "outputs": [
    {
     "data": {
      "text/html": [
       "<div>\n",
       "<style scoped>\n",
       "    .dataframe tbody tr th:only-of-type {\n",
       "        vertical-align: middle;\n",
       "    }\n",
       "\n",
       "    .dataframe tbody tr th {\n",
       "        vertical-align: top;\n",
       "    }\n",
       "\n",
       "    .dataframe thead th {\n",
       "        text-align: right;\n",
       "    }\n",
       "</style>\n",
       "<table border=\"1\" class=\"dataframe\">\n",
       "  <thead>\n",
       "    <tr style=\"text-align: right;\">\n",
       "      <th></th>\n",
       "      <th>x1</th>\n",
       "      <th>x2</th>\n",
       "      <th>y</th>\n",
       "    </tr>\n",
       "  </thead>\n",
       "  <tbody>\n",
       "    <tr>\n",
       "      <th>0</th>\n",
       "      <td>0</td>\n",
       "      <td>0</td>\n",
       "      <td>0</td>\n",
       "    </tr>\n",
       "    <tr>\n",
       "      <th>1</th>\n",
       "      <td>0</td>\n",
       "      <td>1</td>\n",
       "      <td>0</td>\n",
       "    </tr>\n",
       "    <tr>\n",
       "      <th>2</th>\n",
       "      <td>1</td>\n",
       "      <td>0</td>\n",
       "      <td>0</td>\n",
       "    </tr>\n",
       "    <tr>\n",
       "      <th>3</th>\n",
       "      <td>1</td>\n",
       "      <td>1</td>\n",
       "      <td>1</td>\n",
       "    </tr>\n",
       "  </tbody>\n",
       "</table>\n",
       "</div>"
      ],
      "text/plain": [
       "   x1  x2  y\n",
       "0   0   0  0\n",
       "1   0   1  0\n",
       "2   1   0  0\n",
       "3   1   1  1"
      ]
     },
     "execution_count": 2,
     "metadata": {},
     "output_type": "execute_result"
    }
   ],
   "source": [
    "# Tenemos una tabla de clientes con 3 filas (una por cliente) y 3 columnas\n",
    "# x1: joven (0:no, 1:sí)\n",
    "# x2: nómina (0:no, 1:sí)\n",
    "# y: contrató crédito personal cuando se lo ofreció  (0:no, 1:sí)\n",
    "XY_train = {\"x1\":[0,0,1,1],\n",
    "         \"x2\":[0,1,0,1],\n",
    "         \"y\": [0,0,0,1]}\n",
    "XY_train = pd.DataFrame(XY_train)\n",
    "XY_train"
   ]
  },
  {
   "cell_type": "code",
   "execution_count": 3,
   "metadata": {
    "id": "OpaQSXZ_wmXn"
   },
   "outputs": [],
   "source": [
    "# Se define las variables independientes\n",
    "X_train = XY_train.loc[:, [\"x1\",\"x2\"]]\n",
    "\n",
    "# Se define la variable dependiente\n",
    "Y_train = XY_train.loc[:, [\"y\"]].values"
   ]
  },
  {
   "cell_type": "code",
   "execution_count": 4,
   "metadata": {
    "colab": {
     "base_uri": "https://localhost:8080/"
    },
    "id": "LTwICRPjuGfo",
    "outputId": "5372efdc-84a3-4229-ff03-4c5c3ac09bb9"
   },
   "outputs": [
    {
     "name": "stdout",
     "output_type": "stream",
     "text": [
      "Model: \"sequential\"\n",
      "_________________________________________________________________\n",
      " Layer (type)                Output Shape              Param #   \n",
      "=================================================================\n",
      " dense (Dense)               (None, 1)                 3         \n",
      "                                                                 \n",
      "=================================================================\n",
      "Total params: 3 (12.00 Byte)\n",
      "Trainable params: 3 (12.00 Byte)\n",
      "Non-trainable params: 0 (0.00 Byte)\n",
      "_________________________________________________________________\n"
     ]
    }
   ],
   "source": [
    "# Se configura un Perceptrón de 1 neurona\n",
    "capa = tf.keras.layers.Dense(units=1, input_dim=2,  activation='sigmoid')\n",
    "model = tf.keras.Sequential([capa])\n",
    "\n",
    "# Se compila el modelo\n",
    "model.compile(loss='mean_squared_error', optimizer='adam', metrics=['accuracy'])\n",
    "\n",
    "# Se entrena el modelo\n",
    "historial = model.fit(x=X_train, y=Y_train, epochs=8000, verbose=False)\n",
    "\n",
    "# Se visualiza el modelo\n",
    "model.summary()"
   ]
  },
  {
   "cell_type": "code",
   "execution_count": 5,
   "metadata": {
    "colab": {
     "base_uri": "https://localhost:8080/",
     "height": 451
    },
    "id": "k11ib6Ng5oHy",
    "outputId": "e4e8e444-c0d2-417c-8e06-280b7be1dc87"
   },
   "outputs": [
    {
     "data": {
      "image/png": "[encoded data removed]",
      "text/plain": [
       "<Figure size 640x480 with 1 Axes>"
      ]
     },
     "metadata": {},
     "output_type": "display_data"
    }
   ],
   "source": [
    "# Se visualiza la evolución de la función de pérdida (loss)\n",
    "plt.xlabel('Épocas')\n",
    "plt.ylabel(\"Pérdida\")\n",
    "plt.plot(historial.history[\"loss\"])\n",
    "plt.show()"
   ]
  },
  {
   "cell_type": "code",
   "execution_count": 6,
   "metadata": {
    "colab": {
     "base_uri": "https://localhost:8080/"
    },
    "id": "dB3AuLSCjUPj",
    "outputId": "4227e71d-e18f-4b14-b1ac-afcefd319685"
   },
   "outputs": [
    {
     "name": "stdout",
     "output_type": "stream",
     "text": [
      "Precisión final del modelo: 1.0\n"
     ]
    }
   ],
   "source": [
    "# Se muestra la precisión final sobre el conjunto de entrenamiento\n",
    "accuracy = historial.history['accuracy'][-1]\n",
    "print(\"Precisión final del modelo:\", accuracy)"
   ]
  },
  {
   "cell_type": "code",
   "execution_count": 7,
   "metadata": {
    "colab": {
     "base_uri": "https://localhost:8080/"
    },
    "id": "kdYkGmWc0bHl",
    "outputId": "17339288-8903-43e7-93c5-b23a379e1876"
   },
   "outputs": [
    {
     "name": "stdout",
     "output_type": "stream",
     "text": [
      "Pesos del perceptrón: [-5.2566953  3.4920545  3.492082 ]\n"
     ]
    }
   ],
   "source": [
    "# Se obtienen los pesos de la capa y bias\n",
    "w = model.layers[0].get_weights()[0]\n",
    "w0 = model.layers[0].get_weights()[1]\n",
    "w=np.insert(w, 0, w0)\n",
    "\n",
    "print(\"Pesos del perceptrón:\", w)"
   ]
  },
  {
   "cell_type": "code",
   "execution_count": 8,
   "metadata": {
    "colab": {
     "base_uri": "https://localhost:8080/",
     "height": 388
    },
    "id": "98Z7Ua1k0ygh",
    "outputId": "bf4a950e-77c5-4be9-d2be-10389a366f64"
   },
   "outputs": [
    {
     "data": {
      "image/png": "[encoded data removed]",
      "text/plain": [
       "<Figure size 400x400 with 1 Axes>"
      ]
     },
     "metadata": {},
     "output_type": "display_data"
    }
   ],
   "source": [
    "# Recta que soluciona el clasificador\n",
    "x1 = X_train[\"x2\"]\n",
    "x2 = (-w[1] * x1  - w[0]) / w[2]\n",
    "\n",
    "# Se pintan los datos de entrenamiento y la recta generada\n",
    "plt.figure(figsize=(4, 4))\n",
    "\n",
    "# Se dibujan los puntos x1, x2 y los valores y\n",
    "plt.scatter(X_train[\"x1\"], X_train[\"x2\"], c=Y_train, cmap='coolwarm', marker='o', s=100, label='Datos (x1, x2) y etiquetas (y)')\n",
    "\n",
    "# Se dibuja la recta clasificadora\n",
    "plt.plot(x1, x2, 'r', label='Recta generada por los pesos')\n",
    "\n",
    "# Se muestra el gráfico\n",
    "plt.xlim(-0.1, 1.1)\n",
    "plt.ylim(-0.1, 1.1)\n",
    "plt.xlabel('x1: joven')\n",
    "plt.ylabel('x2: nómina')\n",
    "plt.legend(['No Contrata',\"x2=\"+\"(\"+str(-w[1])+\"*x1-(\"+str(w[0])+\"))/\"+str(w[2])], bbox_to_anchor=(1.05, 1), loc='best')\n",
    "plt.show()"
   ]
  }
 ],
 "metadata": {
  "colab": {
   "provenance": []
  },
  "kernelspec": {
   "display_name": "Python 3 (ipykernel)",
   "language": "python",
   "name": "python3"
  },
  "language_info": {
   "codemirror_mode": {
    "name": "ipython",
    "version": 3
   },
   "file_extension": ".py",
   "mimetype": "text/x-python",
   "name": "python",
   "nbconvert_exporter": "python",
   "pygments_lexer": "ipython3",
   "version": "3.11.5"
  }
 },
 "nbformat": 4,
 "nbformat_minor": 4
}
