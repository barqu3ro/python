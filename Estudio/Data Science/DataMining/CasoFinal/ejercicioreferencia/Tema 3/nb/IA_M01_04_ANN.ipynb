{
 "cells": [
  {
   "cell_type": "code",
   "execution_count": 1,
   "metadata": {
    "id": "nLpeebrlsVnw"
   },
   "outputs": [],
   "source": [
    "# Librerías a usar\n",
    "import tensorflow as tf\n",
    "from tensorflow import keras\n",
    "import numpy as np\n",
    "import pandas as pd\n",
    "import matplotlib.pyplot as plt"
   ]
  },
  {
   "cell_type": "code",
   "execution_count": 2,
   "metadata": {
    "colab": {
     "base_uri": "https://localhost:8080/"
    },
    "id": "q5MLe-sSsz1O",
    "outputId": "328f62d3-cda2-4b37-d6f6-63ffe7a7a310"
   },
   "outputs": [
    {
     "data": {
      "text/html": [
       "<div>\n",
       "<style scoped>\n",
       "    .dataframe tbody tr th:only-of-type {\n",
       "        vertical-align: middle;\n",
       "    }\n",
       "\n",
       "    .dataframe tbody tr th {\n",
       "        vertical-align: top;\n",
       "    }\n",
       "\n",
       "    .dataframe thead th {\n",
       "        text-align: right;\n",
       "    }\n",
       "</style>\n",
       "<table border=\"1\" class=\"dataframe\">\n",
       "  <thead>\n",
       "    <tr style=\"text-align: right;\">\n",
       "      <th></th>\n",
       "      <th>x1</th>\n",
       "      <th>x2</th>\n",
       "      <th>y</th>\n",
       "    </tr>\n",
       "  </thead>\n",
       "  <tbody>\n",
       "    <tr>\n",
       "      <th>0</th>\n",
       "      <td>0</td>\n",
       "      <td>0</td>\n",
       "      <td>0</td>\n",
       "    </tr>\n",
       "    <tr>\n",
       "      <th>1</th>\n",
       "      <td>0</td>\n",
       "      <td>1</td>\n",
       "      <td>1</td>\n",
       "    </tr>\n",
       "    <tr>\n",
       "      <th>2</th>\n",
       "      <td>1</td>\n",
       "      <td>0</td>\n",
       "      <td>1</td>\n",
       "    </tr>\n",
       "    <tr>\n",
       "      <th>3</th>\n",
       "      <td>1</td>\n",
       "      <td>1</td>\n",
       "      <td>0</td>\n",
       "    </tr>\n",
       "  </tbody>\n",
       "</table>\n",
       "</div>"
      ],
      "text/plain": [
       "   x1  x2  y\n",
       "0   0   0  0\n",
       "1   0   1  1\n",
       "2   1   0  1\n",
       "3   1   1  0"
      ]
     },
     "execution_count": 2,
     "metadata": {},
     "output_type": "execute_result"
    }
   ],
   "source": [
    "# Tenemos una tabla de clientes con 3 filas (una por cliente) y 3 columnas\n",
    "# x1: tarjeta crédito (0:no, 1:sí)\n",
    "# x2: póliza crédito (0:no, 1:sí)\n",
    "# y: contrató crédito personal cuando se lo ofreció  (0:no, 1:sí)\n",
    "XY_train = {\"x1\":[0,0,1,1],\n",
    "         \"x2\":[0,1,0,1],\n",
    "         \"y\": [0,1,1,0]}\n",
    "XY_train = pd.DataFrame(XY_train)\n",
    "XY_train"
   ]
  },
  {
   "cell_type": "code",
   "execution_count": 3,
   "metadata": {
    "id": "OpaQSXZ_wmXn"
   },
   "outputs": [],
   "source": [
    "# Se define las variables independientes\n",
    "X_train = XY_train.loc[:, [\"x1\",\"x2\"]]\n",
    "\n",
    "# Se define la variable dependiente\n",
    "Y_train = XY_train.loc[:, [\"y\"]].values"
   ]
  },
  {
   "cell_type": "code",
   "execution_count": 4,
   "metadata": {
    "colab": {
     "base_uri": "https://localhost:8080/"
    },
    "id": "LTwICRPjuGfo",
    "outputId": "916422b5-3016-466f-9ea8-764503c4a8ae"
   },
   "outputs": [
    {
     "name": "stdout",
     "output_type": "stream",
     "text": [
      "Model: \"sequential\"\n",
      "_________________________________________________________________\n",
      " Layer (type)                Output Shape              Param #   \n",
      "=================================================================\n",
      " dense (Dense)               (None, 2)                 6         \n",
      "                                                                 \n",
      " dense_1 (Dense)             (None, 1)                 3         \n",
      "                                                                 \n",
      "=================================================================\n",
      "Total params: 9 (36.00 Byte)\n",
      "Trainable params: 9 (36.00 Byte)\n",
      "Non-trainable params: 0 (0.00 Byte)\n",
      "_________________________________________________________________\n"
     ]
    }
   ],
   "source": [
    "# Se configura un Perceptrón de 3 capas\n",
    "model = tf.keras.Sequential([\n",
    "    tf.keras.layers.Input(shape=(2,)),              # Capa de entrada\n",
    "    tf.keras.layers.Dense(2, activation='sigmoid'), # Capa oculta con sigmoid\n",
    "    tf.keras.layers.Dense(1, activation='sigmoid')  # Capa de salida con sigmoid\n",
    "])\n",
    "\n",
    "\n",
    "# Se compila el modelo\n",
    "model.compile(loss='mean_squared_error', optimizer='adam', metrics=['accuracy'])\n",
    "\n",
    "# Se entrena el modelo\n",
    "historial = model.fit(x=X_train, y=Y_train, epochs=8000, verbose=False)\n",
    "\n",
    "# Se visualiza el modelo\n",
    "model.summary()"
   ]
  },
  {
   "cell_type": "code",
   "execution_count": 5,
   "metadata": {
    "colab": {
     "base_uri": "https://localhost:8080/",
     "height": 451
    },
    "id": "k11ib6Ng5oHy",
    "outputId": "dbd7ec10-6eff-4136-e89f-d32fb0c600ed"
   },
   "outputs": [
    {
     "data": {
      "image/png": "[encoded data removed]",
      "text/plain": [
       "<Figure size 640x480 with 1 Axes>"
      ]
     },
     "metadata": {},
     "output_type": "display_data"
    }
   ],
   "source": [
    "# Se visualiza la evolución de la función de pérdida (loss)\n",
    "plt.xlabel('Épocas')\n",
    "plt.ylabel(\"Pérdida\")\n",
    "plt.plot(historial.history[\"loss\"])\n",
    "plt.show()"
   ]
  },
  {
   "cell_type": "code",
   "execution_count": 6,
   "metadata": {
    "colab": {
     "base_uri": "https://localhost:8080/"
    },
    "id": "dB3AuLSCjUPj",
    "outputId": "162892f3-032f-4c9f-c112-ace970b7e5f0"
   },
   "outputs": [
    {
     "name": "stdout",
     "output_type": "stream",
     "text": [
      "Precisión final del modelo: 0.5\n"
     ]
    }
   ],
   "source": [
    "# Se muestra la precisión final sobre el conjunto de entrenamiento\n",
    "accuracy = historial.history['accuracy']\n",
    "print(\"Precisión final del modelo:\", accuracy[-1])"
   ]
  },
  {
   "cell_type": "code",
   "execution_count": 7,
   "metadata": {
    "colab": {
     "base_uri": "https://localhost:8080/"
    },
    "id": "URH4TgQoPWOU",
    "outputId": "86a1de35-27c8-4a82-91e1-c131a2dfab02"
   },
   "outputs": [
    {
     "name": "stdout",
     "output_type": "stream",
     "text": [
      "Pesos del perceptrón capa oculta: [ 0.49705902 -3.9227862  -4.323313    4.6802526  -6.776221   -7.0550385 ]\n",
      "Pesos del perceptrón capa salida: [ 9.1222569e-04 -5.5666265e+00  5.0810008e+00]\n"
     ]
    }
   ],
   "source": [
    "# Visualizar los pesos de la capa oculta\n",
    "weights_hidden = model.layers[0].get_weights()[0]  # Pesos de la capa oculta\n",
    "biases_hidden = model.layers[0].get_weights()[1]  # Sesgos de la capa oculta\n",
    "weights_hidden=np.insert(weights_hidden, 0, biases_hidden)\n",
    "print(\"Pesos del perceptrón capa oculta:\", weights_hidden)\n",
    "\n",
    "# Visualizar los pesos de la capa de salida\n",
    "weights_output = model.layers[1].get_weights()[0]  # Pesos de la capa de salida\n",
    "biases_output = model.layers[1].get_weights()[1]  # Sesgos de la capa de salida\n",
    "weights_output=np.insert(weights_output, 0, biases_output)\n",
    "print(\"Pesos del perceptrón capa salida:\", weights_output)"
   ]
  }
 ],
 "metadata": {
  "colab": {
   "provenance": []
  },
  "kernelspec": {
   "display_name": "Python 3 (ipykernel)",
   "language": "python",
   "name": "python3"
  },
  "language_info": {
   "codemirror_mode": {
    "name": "ipython",
    "version": 3
   },
   "file_extension": ".py",
   "mimetype": "text/x-python",
   "name": "python",
   "nbconvert_exporter": "python",
   "pygments_lexer": "ipython3",
   "version": "3.11.5"
  }
 },
 "nbformat": 4,
 "nbformat_minor": 4
}
