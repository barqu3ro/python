{
 "cells": [
  {
   "cell_type": "markdown",
   "metadata": {},
   "source": [
    "** MACHINE LEARNING **\n",
    "\n",
    "Regresión: En la regresión el objetivo es predecir un valor continuo."
   ]
  },
  {
   "cell_type": "code",
   "execution_count": 1,
   "metadata": {},
   "outputs": [
    {
     "name": "stdout",
     "output_type": "stream",
     "text": [
      "Predicción: [5.8]\n"
     ]
    }
   ],
   "source": [
    "from sklearn.linear_model import LinearRegression\n",
    "import numpy as np\n",
    "\n",
    "# Datos de ejemplo\n",
    "X = np.array([[1], [2], [3], [4], [5]])\n",
    "y = np.array([2, 4, 5, 4, 5])\n",
    "\n",
    "# Crear un modelo de regresión lineal\n",
    "model = LinearRegression()\n",
    "\n",
    "# Entrenar el modelo\n",
    "model.fit(X, y)\n",
    "\n",
    "# Hacer predicciones\n",
    "X_new = np.array([[6]])\n",
    "prediction = model.predict(X_new)\n",
    "print(\"Predicción:\", prediction)\n"
   ]
  },
  {
   "cell_type": "markdown",
   "metadata": {},
   "source": [
    "Clasificación: el objetivo es predecir una etiqueta o clase\n",
    "\n",
    "Ejemplo de Clasificación con SVM (Máquinas de Soporte Vectorial):"
   ]
  },
  {
   "cell_type": "code",
   "execution_count": 2,
   "metadata": {},
   "outputs": [
    {
     "name": "stdout",
     "output_type": "stream",
     "text": [
      "Predicción: [1]\n"
     ]
    }
   ],
   "source": [
    "from sklearn.svm import SVC\n",
    "import numpy as np\n",
    "\n",
    "# Datos de ejemplo\n",
    "X = np.array([[0, 0], [1, 1]])\n",
    "y = np.array([0, 1])\n",
    "\n",
    "# Crear un modelo SVM\n",
    "model = SVC(kernel='linear')\n",
    "\n",
    "# Entrenar el modelo\n",
    "model.fit(X, y)\n",
    "\n",
    "# Hacer predicciones\n",
    "X_new = np.array([[2, 2]])\n",
    "prediction = model.predict(X_new)\n",
    "print(\"Predicción:\", prediction)\n"
   ]
  },
  {
   "cell_type": "markdown",
   "metadata": {},
   "source": [
    "Ejemplo de Clasificación con Bosques Aleatorios (Random Forest):"
   ]
  },
  {
   "cell_type": "code",
   "execution_count": 3,
   "metadata": {},
   "outputs": [
    {
     "name": "stdout",
     "output_type": "stream",
     "text": [
      "Predicción: [1]\n"
     ]
    }
   ],
   "source": [
    "from sklearn.ensemble import RandomForestClassifier\n",
    "import numpy as np\n",
    "\n",
    "# Datos de ejemplo\n",
    "X = np.array([[0, 0], [1, 1]])\n",
    "y = np.array([0, 1])\n",
    "\n",
    "# Crear un modelo de Bosques Aleatorios\n",
    "model = RandomForestClassifier()\n",
    "\n",
    "# Entrenar el modelo\n",
    "model.fit(X, y)\n",
    "\n",
    "# Hacer predicciones\n",
    "X_new = np.array([[2, 2]])\n",
    "prediction = model.predict(X_new)\n",
    "print(\"Predicción:\", prediction)\n"
   ]
  }
 ],
 "metadata": {
  "kernelspec": {
   "display_name": "Python 3",
   "language": "python",
   "name": "python3"
  },
  "language_info": {
   "codemirror_mode": {
    "name": "ipython",
    "version": 3
   },
   "file_extension": ".py",
   "mimetype": "text/x-python",
   "name": "python",
   "nbconvert_exporter": "python",
   "pygments_lexer": "ipython3",
   "version": "3.11.2"
  }
 },
 "nbformat": 4,
 "nbformat_minor": 2
}
