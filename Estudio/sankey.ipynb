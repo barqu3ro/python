{
 "cells": [
  {
   "cell_type": "code",
   "execution_count": 8,
   "metadata": {},
   "outputs": [
    {
     "ename": "AttributeError",
     "evalue": "type object 'Sankey' has no attribute 'Link'",
     "output_type": "error",
     "traceback": [
      "\u001b[0;31m---------------------------------------------------------------------------\u001b[0m",
      "\u001b[0;31mAttributeError\u001b[0m                            Traceback (most recent call last)",
      "Cell \u001b[0;32mIn[8], line 3\u001b[0m\n\u001b[1;32m      1\u001b[0m \u001b[38;5;28;01mfrom\u001b[39;00m \u001b[38;5;21;01mplotly\u001b[39;00m\u001b[38;5;21;01m.\u001b[39;00m\u001b[38;5;21;01mgraph_objects\u001b[39;00m \u001b[38;5;28;01mimport\u001b[39;00m Sankey\n\u001b[1;32m      2\u001b[0m \u001b[38;5;66;03m# Define the links between nodes\u001b[39;00m\n\u001b[0;32m----> 3\u001b[0m links \u001b[38;5;241m=\u001b[39m [\u001b[43mSankey\u001b[49m\u001b[38;5;241;43m.\u001b[39;49m\u001b[43mLink\u001b[49m(source\u001b[38;5;241m=\u001b[39m\u001b[38;5;241m0\u001b[39m, target\u001b[38;5;241m=\u001b[39m\u001b[38;5;241m1\u001b[39m, value\u001b[38;5;241m=\u001b[39m\u001b[38;5;241m10\u001b[39m),\n\u001b[1;32m      4\u001b[0m          Sankey\u001b[38;5;241m.\u001b[39mLink(source\u001b[38;5;241m=\u001b[39m\u001b[38;5;241m1\u001b[39m, target\u001b[38;5;241m=\u001b[39m\u001b[38;5;241m2\u001b[39m, value\u001b[38;5;241m=\u001b[39m\u001b[38;5;241m5\u001b[39m),\n\u001b[1;32m      5\u001b[0m          Sankey\u001b[38;5;241m.\u001b[39mLink(source\u001b[38;5;241m=\u001b[39m\u001b[38;5;241m2\u001b[39m, target\u001b[38;5;241m=\u001b[39m\u001b[38;5;241m3\u001b[39m, value\u001b[38;5;241m=\u001b[39m\u001b[38;5;241m2\u001b[39m),\n\u001b[1;32m      6\u001b[0m          Sankey\u001b[38;5;241m.\u001b[39mLink(source\u001b[38;5;241m=\u001b[39m\u001b[38;5;241m0\u001b[39m, target\u001b[38;5;241m=\u001b[39m\u001b[38;5;241m3\u001b[39m, value\u001b[38;5;241m=\u001b[39m\u001b[38;5;241m8\u001b[39m)]\n\u001b[1;32m      8\u001b[0m \u001b[38;5;66;03m# Define the nodes\u001b[39;00m\n\u001b[1;32m      9\u001b[0m nodes \u001b[38;5;241m=\u001b[39m [{\u001b[38;5;124m'\u001b[39m\u001b[38;5;124mlabel\u001b[39m\u001b[38;5;124m'\u001b[39m: \u001b[38;5;124m'\u001b[39m\u001b[38;5;124mNode A\u001b[39m\u001b[38;5;124m'\u001b[39m},\n\u001b[1;32m     10\u001b[0m          {\u001b[38;5;124m'\u001b[39m\u001b[38;5;124mlabel\u001b[39m\u001b[38;5;124m'\u001b[39m: \u001b[38;5;124m'\u001b[39m\u001b[38;5;124mNode B\u001b[39m\u001b[38;5;124m'\u001b[39m},\n\u001b[1;32m     11\u001b[0m          {\u001b[38;5;124m'\u001b[39m\u001b[38;5;124mlabel\u001b[39m\u001b[38;5;124m'\u001b[39m: \u001b[38;5;124m'\u001b[39m\u001b[38;5;124mNode C\u001b[39m\u001b[38;5;124m'\u001b[39m},\n\u001b[1;32m     12\u001b[0m          {\u001b[38;5;124m'\u001b[39m\u001b[38;5;124mlabel\u001b[39m\u001b[38;5;124m'\u001b[39m: \u001b[38;5;124m'\u001b[39m\u001b[38;5;124mNode D\u001b[39m\u001b[38;5;124m'\u001b[39m}]\n",
      "\u001b[0;31mAttributeError\u001b[0m: type object 'Sankey' has no attribute 'Link'"
     ]
    }
   ],
   "source": [
    "from plotly.graph_objects import Sankey\n",
    "# Define the links between nodes\n",
    "links = [Sankey.Link(source=0, target=1, value=10),\n",
    "         Sankey.Link(source=1, target=2, value=5),\n",
    "         Sankey.Link(source=2, target=3, value=2),\n",
    "         Sankey.Link(source=0, target=3, value=8)]\n",
    "\n",
    "# Define the nodes\n",
    "nodes = [{'label': 'Node A'},\n",
    "         {'label': 'Node B'},\n",
    "         {'label': 'Node C'},\n",
    "         {'label': 'Node D'}]\n",
    "\n",
    "# Create the Sankey diagram figure\n",
    "fig = go.Figure(data=[go.Sankey(link=links, node=nodes)],\n",
    "                layout=go.Layout(title={'text': 'Sankey Diagram Example'}))\n",
    "\n",
    "# Display the figure\n",
    "fig.show()\n"
   ]
  }
 ],
 "metadata": {
  "kernelspec": {
   "display_name": "Python 3",
   "language": "python",
   "name": "python3"
  },
  "language_info": {
   "codemirror_mode": {
    "name": "ipython",
    "version": 3
   },
   "file_extension": ".py",
   "mimetype": "text/x-python",
   "name": "python",
   "nbconvert_exporter": "python",
   "pygments_lexer": "ipython3",
   "version": "3.11.2"
  }
 },
 "nbformat": 4,
 "nbformat_minor": 2
}
