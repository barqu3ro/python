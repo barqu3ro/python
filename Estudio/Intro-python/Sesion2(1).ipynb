{
  "nbformat": 4,
  "nbformat_minor": 0,
  "metadata": {
    "colab": {
      "provenance": []
    },
    "kernelspec": {
      "name": "python3",
      "display_name": "Python 3"
    },
    "language_info": {
      "name": "python"
    }
  },
  "cells": [
    {
      "cell_type": "markdown",
      "source": [
        "## Ejercicio 5"
      ],
      "metadata": {
        "id": "yFoDQBYLo8Up"
      }
    },
    {
      "cell_type": "code",
      "source": [
        "#MODIFY EACH STEP IN ORDER TO RUN COMPLETLY THE PROGRAM\n",
        "print('STEP 1')\n",
        "\n",
        "for i in range(0,11):\n",
        "  x = i\n",
        "\n",
        "print(f'x should be 10:{x}')\n",
        "if x == 10:\n",
        "    print('SUCCESS! IN STEP 1')\n",
        "print('STEP 2')\n",
        "x = False\n",
        "\n",
        "for i in range(0,11):\n",
        "    print(\"i:\", i, \"X:\", x, \" / x and True:\",x and True)\n",
        "    x = x or True\n",
        "    if x and  i == 5:\n",
        "        break\n",
        "\n",
        "print(f'x should be True:{x}')\n",
        "print(f'i should be 5:{i}')\n",
        "if i == 5 and x:\n",
        "    print('SUCCESS! IN STEP 2')\n"
      ],
      "metadata": {
        "colab": {
          "base_uri": "https://localhost:8080/"
        },
        "id": "ICWgA6vdoyj_",
        "outputId": "9a88080e-5c9a-4ad1-c32f-d44da7145fac"
      },
      "execution_count": 81,
      "outputs": [
        {
          "output_type": "stream",
          "name": "stdout",
          "text": [
            "STEP 1\n",
            "x should be 10:10\n",
            "SUCCESS! IN STEP 1\n",
            "STEP 2\n",
            "i: 0 X: False  / x and True: False\n",
            "i: 1 X: True  / x and True: True\n",
            "i: 2 X: True  / x and True: True\n",
            "i: 3 X: True  / x and True: True\n",
            "i: 4 X: True  / x and True: True\n",
            "i: 5 X: True  / x and True: True\n",
            "x should be True:True\n",
            "i should be 5:5\n",
            "SUCCESS! IN STEP 2\n"
          ]
        }
      ]
    },
    {
      "cell_type": "code",
      "source": [
        "print(bool(1))"
      ],
      "metadata": {
        "colab": {
          "base_uri": "https://localhost:8080/"
        },
        "id": "nALJ-zBy5f9N",
        "outputId": "6c2f3015-db5e-480d-a5a2-ac1fc48de7ca"
      },
      "execution_count": 80,
      "outputs": [
        {
          "output_type": "stream",
          "name": "stdout",
          "text": [
            "True\n"
          ]
        }
      ]
    },
    {
      "cell_type": "code",
      "source": [
        "0==1"
      ],
      "metadata": {
        "colab": {
          "base_uri": "https://localhost:8080/"
        },
        "id": "J-Fxz9Mp2PgE",
        "outputId": "166a59b0-b365-4160-992e-4793d35d2386"
      },
      "execution_count": 63,
      "outputs": [
        {
          "output_type": "execute_result",
          "data": {
            "text/plain": [
              "False"
            ]
          },
          "metadata": {},
          "execution_count": 63
        }
      ]
    },
    {
      "cell_type": "code",
      "source": [
        "0==0"
      ],
      "metadata": {
        "colab": {
          "base_uri": "https://localhost:8080/"
        },
        "id": "m0stnx392RoA",
        "outputId": "cd3343ce-0652-46cf-a6ab-b4dd8c64a49d"
      },
      "execution_count": 64,
      "outputs": [
        {
          "output_type": "execute_result",
          "data": {
            "text/plain": [
              "True"
            ]
          },
          "metadata": {},
          "execution_count": 64
        }
      ]
    },
    {
      "cell_type": "code",
      "source": [
        "True and True"
      ],
      "metadata": {
        "colab": {
          "base_uri": "https://localhost:8080/"
        },
        "id": "kn-YtB2P12pn",
        "outputId": "b8d5960f-4a98-4891-8f0f-34d6de572e67"
      },
      "execution_count": 66,
      "outputs": [
        {
          "output_type": "execute_result",
          "data": {
            "text/plain": [
              "True"
            ]
          },
          "metadata": {},
          "execution_count": 66
        }
      ]
    },
    {
      "cell_type": "code",
      "source": [
        "False or True"
      ],
      "metadata": {
        "colab": {
          "base_uri": "https://localhost:8080/"
        },
        "id": "lBRFO4X02k6T",
        "outputId": "ebb37165-9c92-41c4-8964-0b971f402c00"
      },
      "execution_count": 69,
      "outputs": [
        {
          "output_type": "execute_result",
          "data": {
            "text/plain": [
              "True"
            ]
          },
          "metadata": {},
          "execution_count": 69
        }
      ]
    },
    {
      "cell_type": "code",
      "source": [
        "# 0 1 1 2 3 5 8 13\n",
        "\n",
        "13\n",
        "8+ 5\n",
        "5 3      3 2\n",
        "3 2      2 1       2 1    1 1\n",
        "2 1      1 1       1 1    1 1\n",
        "1 1"
      ],
      "metadata": {
        "id": "lGeYR-TI7jII"
      },
      "execution_count": 86,
      "outputs": []
    },
    {
      "cell_type": "code",
      "source": [
        "\n",
        "def fib(n):\n",
        "  if n <= 0:\n",
        "    return 0\n",
        "  elif n == 1:\n",
        "    return 1\n",
        "  else:\n",
        "    a = 0\n",
        "    b = 1\n",
        "    a_aux = -1\n",
        "    for _ in range(2, n+1):\n",
        "      a_aux = a\n",
        "      a = b\n",
        "      b = a_aux + b\n",
        "      # a, b = b, a + b\n",
        "  return b\n",
        "\n",
        "fib(73)"
      ],
      "metadata": {
        "colab": {
          "base_uri": "https://localhost:8080/"
        },
        "id": "2l3rg4Vy8ULW",
        "outputId": "871568a4-5780-45d6-a184-b3e97df26185"
      },
      "execution_count": 107,
      "outputs": [
        {
          "output_type": "execute_result",
          "data": {
            "text/plain": [
              "806515533049393"
            ]
          },
          "metadata": {},
          "execution_count": 107
        }
      ]
    },
    {
      "cell_type": "code",
      "source": [
        "def fib(n):\n",
        "  if n <= 0:\n",
        "    return 0\n",
        "  elif n == 1:\n",
        "    return 1\n",
        "  else:\n",
        "    return fib(n-1)+fib(n-2)\n",
        "\n",
        "fib(6)"
      ],
      "metadata": {
        "colab": {
          "base_uri": "https://localhost:8080/"
        },
        "id": "Gtb96CBU_fyi",
        "outputId": "034f4431-d4af-4b92-fc99-b17efacd410a"
      },
      "execution_count": 155,
      "outputs": [
        {
          "output_type": "execute_result",
          "data": {
            "text/plain": [
              "8"
            ]
          },
          "metadata": {},
          "execution_count": 155
        }
      ]
    },
    {
      "cell_type": "code",
      "source": [
        "def func():\n",
        "  return 1, 2, 3\n",
        "\n",
        "\n",
        "a,_,c = func()\n",
        "print(a)\n",
        "print(c)"
      ],
      "metadata": {
        "colab": {
          "base_uri": "https://localhost:8080/"
        },
        "id": "jWt6Czvh--yw",
        "outputId": "55966223-2880-451b-939f-36a3f0035846"
      },
      "execution_count": 102,
      "outputs": [
        {
          "output_type": "stream",
          "name": "stdout",
          "text": [
            "1\n",
            "2\n",
            "3\n"
          ]
        }
      ]
    },
    {
      "cell_type": "markdown",
      "source": [
        "## Dataframe examples"
      ],
      "metadata": {
        "id": "sCXR0QlXCvYF"
      }
    },
    {
      "cell_type": "markdown",
      "source": [
        "Importamos los datos"
      ],
      "metadata": {
        "id": "erTa-Q3MDOmb"
      }
    },
    {
      "cell_type": "code",
      "source": [
        "!pip install pyodbc"
      ],
      "metadata": {
        "colab": {
          "base_uri": "https://localhost:8080/"
        },
        "id": "Ouc6YVn1EUD6",
        "outputId": "33549124-c3b7-465d-9aca-1d1782743b2d"
      },
      "execution_count": 111,
      "outputs": [
        {
          "output_type": "stream",
          "name": "stdout",
          "text": [
            "Collecting pyodbc\n",
            "  Downloading pyodbc-5.0.1-cp310-cp310-manylinux_2_17_x86_64.manylinux2014_x86_64.whl (334 kB)\n",
            "\u001b[2K     \u001b[90m━━━━━━━━━━━━━━━━━━━━━━━━━━━━━━━━━━━━━━━━\u001b[0m \u001b[32m334.8/334.8 kB\u001b[0m \u001b[31m3.9 MB/s\u001b[0m eta \u001b[36m0:00:00\u001b[0m\n",
            "\u001b[?25hInstalling collected packages: pyodbc\n",
            "Successfully installed pyodbc-5.0.1\n"
          ]
        }
      ]
    },
    {
      "cell_type": "code",
      "source": [
        "import pyodbc"
      ],
      "metadata": {
        "id": "9fXW-2lQEbDr"
      },
      "execution_count": 112,
      "outputs": []
    },
    {
      "cell_type": "code",
      "execution_count": 153,
      "metadata": {
        "colab": {
          "base_uri": "https://localhost:8080/",
          "height": 206
        },
        "id": "eJJ6G9Er7-kl",
        "outputId": "3299c70e-3a22-400e-e1c1-d8c9106d87c7"
      },
      "outputs": [
        {
          "output_type": "execute_result",
          "data": {
            "text/plain": [
              "   Unnamed: 0                   Location  \\\n",
              "0           0              The apartment   \n",
              "1           1              The apartment   \n",
              "2           2   The room in the basement   \n",
              "3           3  Sheldon and Amy’s bedroom   \n",
              "4           4                   A cinema   \n",
              "\n",
              "                                               Scene  \\\n",
              "0                                                NaN   \n",
              "1                                                NaN   \n",
              "2   Sheldon enters, takes out a box, takes a bean...   \n",
              "3                                                NaN   \n",
              "4                                                NaN   \n",
              "\n",
              "                                                Text  Speaker  Season  \n",
              "0                              Again I’m right here.  Leonard       3  \n",
              "1  Fine. The record shall so reflect. Now getting...  Sheldon       5  \n",
              "2  One two three four five six seven eight… Drat....  Sheldon       6  \n",
              "3  I’m not sure. Earlier tonight things began org...  Sheldon      10  \n",
              "4              He’s finding the acoustic sweet spot.  Leonard       2  "
            ],
            "text/html": [
              "\n",
              "  <div id=\"df-a6ffb7d3-05ca-44a6-b29a-b265e53a672c\" class=\"colab-df-container\">\n",
              "    <div>\n",
              "<style scoped>\n",
              "    .dataframe tbody tr th:only-of-type {\n",
              "        vertical-align: middle;\n",
              "    }\n",
              "\n",
              "    .dataframe tbody tr th {\n",
              "        vertical-align: top;\n",
              "    }\n",
              "\n",
              "    .dataframe thead th {\n",
              "        text-align: right;\n",
              "    }\n",
              "</style>\n",
              "<table border=\"1\" class=\"dataframe\">\n",
              "  <thead>\n",
              "    <tr style=\"text-align: right;\">\n",
              "      <th></th>\n",
              "      <th>Unnamed: 0</th>\n",
              "      <th>Location</th>\n",
              "      <th>Scene</th>\n",
              "      <th>Text</th>\n",
              "      <th>Speaker</th>\n",
              "      <th>Season</th>\n",
              "    </tr>\n",
              "  </thead>\n",
              "  <tbody>\n",
              "    <tr>\n",
              "      <th>0</th>\n",
              "      <td>0</td>\n",
              "      <td>The apartment</td>\n",
              "      <td>NaN</td>\n",
              "      <td>Again I’m right here.</td>\n",
              "      <td>Leonard</td>\n",
              "      <td>3</td>\n",
              "    </tr>\n",
              "    <tr>\n",
              "      <th>1</th>\n",
              "      <td>1</td>\n",
              "      <td>The apartment</td>\n",
              "      <td>NaN</td>\n",
              "      <td>Fine. The record shall so reflect. Now getting...</td>\n",
              "      <td>Sheldon</td>\n",
              "      <td>5</td>\n",
              "    </tr>\n",
              "    <tr>\n",
              "      <th>2</th>\n",
              "      <td>2</td>\n",
              "      <td>The room in the basement</td>\n",
              "      <td>Sheldon enters, takes out a box, takes a bean...</td>\n",
              "      <td>One two three four five six seven eight… Drat....</td>\n",
              "      <td>Sheldon</td>\n",
              "      <td>6</td>\n",
              "    </tr>\n",
              "    <tr>\n",
              "      <th>3</th>\n",
              "      <td>3</td>\n",
              "      <td>Sheldon and Amy’s bedroom</td>\n",
              "      <td>NaN</td>\n",
              "      <td>I’m not sure. Earlier tonight things began org...</td>\n",
              "      <td>Sheldon</td>\n",
              "      <td>10</td>\n",
              "    </tr>\n",
              "    <tr>\n",
              "      <th>4</th>\n",
              "      <td>4</td>\n",
              "      <td>A cinema</td>\n",
              "      <td>NaN</td>\n",
              "      <td>He’s finding the acoustic sweet spot.</td>\n",
              "      <td>Leonard</td>\n",
              "      <td>2</td>\n",
              "    </tr>\n",
              "  </tbody>\n",
              "</table>\n",
              "</div>\n",
              "    <div class=\"colab-df-buttons\">\n",
              "\n",
              "  <div class=\"colab-df-container\">\n",
              "    <button class=\"colab-df-convert\" onclick=\"convertToInteractive('df-a6ffb7d3-05ca-44a6-b29a-b265e53a672c')\"\n",
              "            title=\"Convert this dataframe to an interactive table.\"\n",
              "            style=\"display:none;\">\n",
              "\n",
              "  <svg xmlns=\"http://www.w3.org/2000/svg\" height=\"24px\" viewBox=\"0 -960 960 960\">\n",
              "    <path d=\"M120-120v-720h720v720H120Zm60-500h600v-160H180v160Zm220 220h160v-160H400v160Zm0 220h160v-160H400v160ZM180-400h160v-160H180v160Zm440 0h160v-160H620v160ZM180-180h160v-160H180v160Zm440 0h160v-160H620v160Z\"/>\n",
              "  </svg>\n",
              "    </button>\n",
              "\n",
              "  <style>\n",
              "    .colab-df-container {\n",
              "      display:flex;\n",
              "      gap: 12px;\n",
              "    }\n",
              "\n",
              "    .colab-df-convert {\n",
              "      background-color: #E8F0FE;\n",
              "      border: none;\n",
              "      border-radius: 50%;\n",
              "      cursor: pointer;\n",
              "      display: none;\n",
              "      fill: #1967D2;\n",
              "      height: 32px;\n",
              "      padding: 0 0 0 0;\n",
              "      width: 32px;\n",
              "    }\n",
              "\n",
              "    .colab-df-convert:hover {\n",
              "      background-color: #E2EBFA;\n",
              "      box-shadow: 0px 1px 2px rgba(60, 64, 67, 0.3), 0px 1px 3px 1px rgba(60, 64, 67, 0.15);\n",
              "      fill: #174EA6;\n",
              "    }\n",
              "\n",
              "    .colab-df-buttons div {\n",
              "      margin-bottom: 4px;\n",
              "    }\n",
              "\n",
              "    [theme=dark] .colab-df-convert {\n",
              "      background-color: #3B4455;\n",
              "      fill: #D2E3FC;\n",
              "    }\n",
              "\n",
              "    [theme=dark] .colab-df-convert:hover {\n",
              "      background-color: #434B5C;\n",
              "      box-shadow: 0px 1px 3px 1px rgba(0, 0, 0, 0.15);\n",
              "      filter: drop-shadow(0px 1px 2px rgba(0, 0, 0, 0.3));\n",
              "      fill: #FFFFFF;\n",
              "    }\n",
              "  </style>\n",
              "\n",
              "    <script>\n",
              "      const buttonEl =\n",
              "        document.querySelector('#df-a6ffb7d3-05ca-44a6-b29a-b265e53a672c button.colab-df-convert');\n",
              "      buttonEl.style.display =\n",
              "        google.colab.kernel.accessAllowed ? 'block' : 'none';\n",
              "\n",
              "      async function convertToInteractive(key) {\n",
              "        const element = document.querySelector('#df-a6ffb7d3-05ca-44a6-b29a-b265e53a672c');\n",
              "        const dataTable =\n",
              "          await google.colab.kernel.invokeFunction('convertToInteractive',\n",
              "                                                    [key], {});\n",
              "        if (!dataTable) return;\n",
              "\n",
              "        const docLinkHtml = 'Like what you see? Visit the ' +\n",
              "          '<a target=\"_blank\" href=https://colab.research.google.com/notebooks/data_table.ipynb>data table notebook</a>'\n",
              "          + ' to learn more about interactive tables.';\n",
              "        element.innerHTML = '';\n",
              "        dataTable['output_type'] = 'display_data';\n",
              "        await google.colab.output.renderOutput(dataTable, element);\n",
              "        const docLink = document.createElement('div');\n",
              "        docLink.innerHTML = docLinkHtml;\n",
              "        element.appendChild(docLink);\n",
              "      }\n",
              "    </script>\n",
              "  </div>\n",
              "\n",
              "\n",
              "<div id=\"df-71d3d2c4-9939-4178-8ea2-c5078567bdac\">\n",
              "  <button class=\"colab-df-quickchart\" onclick=\"quickchart('df-71d3d2c4-9939-4178-8ea2-c5078567bdac')\"\n",
              "            title=\"Suggest charts.\"\n",
              "            style=\"display:none;\">\n",
              "\n",
              "<svg xmlns=\"http://www.w3.org/2000/svg\" height=\"24px\"viewBox=\"0 0 24 24\"\n",
              "     width=\"24px\">\n",
              "    <g>\n",
              "        <path d=\"M19 3H5c-1.1 0-2 .9-2 2v14c0 1.1.9 2 2 2h14c1.1 0 2-.9 2-2V5c0-1.1-.9-2-2-2zM9 17H7v-7h2v7zm4 0h-2V7h2v10zm4 0h-2v-4h2v4z\"/>\n",
              "    </g>\n",
              "</svg>\n",
              "  </button>\n",
              "\n",
              "<style>\n",
              "  .colab-df-quickchart {\n",
              "      --bg-color: #E8F0FE;\n",
              "      --fill-color: #1967D2;\n",
              "      --hover-bg-color: #E2EBFA;\n",
              "      --hover-fill-color: #174EA6;\n",
              "      --disabled-fill-color: #AAA;\n",
              "      --disabled-bg-color: #DDD;\n",
              "  }\n",
              "\n",
              "  [theme=dark] .colab-df-quickchart {\n",
              "      --bg-color: #3B4455;\n",
              "      --fill-color: #D2E3FC;\n",
              "      --hover-bg-color: #434B5C;\n",
              "      --hover-fill-color: #FFFFFF;\n",
              "      --disabled-bg-color: #3B4455;\n",
              "      --disabled-fill-color: #666;\n",
              "  }\n",
              "\n",
              "  .colab-df-quickchart {\n",
              "    background-color: var(--bg-color);\n",
              "    border: none;\n",
              "    border-radius: 50%;\n",
              "    cursor: pointer;\n",
              "    display: none;\n",
              "    fill: var(--fill-color);\n",
              "    height: 32px;\n",
              "    padding: 0;\n",
              "    width: 32px;\n",
              "  }\n",
              "\n",
              "  .colab-df-quickchart:hover {\n",
              "    background-color: var(--hover-bg-color);\n",
              "    box-shadow: 0 1px 2px rgba(60, 64, 67, 0.3), 0 1px 3px 1px rgba(60, 64, 67, 0.15);\n",
              "    fill: var(--button-hover-fill-color);\n",
              "  }\n",
              "\n",
              "  .colab-df-quickchart-complete:disabled,\n",
              "  .colab-df-quickchart-complete:disabled:hover {\n",
              "    background-color: var(--disabled-bg-color);\n",
              "    fill: var(--disabled-fill-color);\n",
              "    box-shadow: none;\n",
              "  }\n",
              "\n",
              "  .colab-df-spinner {\n",
              "    border: 2px solid var(--fill-color);\n",
              "    border-color: transparent;\n",
              "    border-bottom-color: var(--fill-color);\n",
              "    animation:\n",
              "      spin 1s steps(1) infinite;\n",
              "  }\n",
              "\n",
              "  @keyframes spin {\n",
              "    0% {\n",
              "      border-color: transparent;\n",
              "      border-bottom-color: var(--fill-color);\n",
              "      border-left-color: var(--fill-color);\n",
              "    }\n",
              "    20% {\n",
              "      border-color: transparent;\n",
              "      border-left-color: var(--fill-color);\n",
              "      border-top-color: var(--fill-color);\n",
              "    }\n",
              "    30% {\n",
              "      border-color: transparent;\n",
              "      border-left-color: var(--fill-color);\n",
              "      border-top-color: var(--fill-color);\n",
              "      border-right-color: var(--fill-color);\n",
              "    }\n",
              "    40% {\n",
              "      border-color: transparent;\n",
              "      border-right-color: var(--fill-color);\n",
              "      border-top-color: var(--fill-color);\n",
              "    }\n",
              "    60% {\n",
              "      border-color: transparent;\n",
              "      border-right-color: var(--fill-color);\n",
              "    }\n",
              "    80% {\n",
              "      border-color: transparent;\n",
              "      border-right-color: var(--fill-color);\n",
              "      border-bottom-color: var(--fill-color);\n",
              "    }\n",
              "    90% {\n",
              "      border-color: transparent;\n",
              "      border-bottom-color: var(--fill-color);\n",
              "    }\n",
              "  }\n",
              "</style>\n",
              "\n",
              "  <script>\n",
              "    async function quickchart(key) {\n",
              "      const quickchartButtonEl =\n",
              "        document.querySelector('#' + key + ' button');\n",
              "      quickchartButtonEl.disabled = true;  // To prevent multiple clicks.\n",
              "      quickchartButtonEl.classList.add('colab-df-spinner');\n",
              "      try {\n",
              "        const charts = await google.colab.kernel.invokeFunction(\n",
              "            'suggestCharts', [key], {});\n",
              "      } catch (error) {\n",
              "        console.error('Error during call to suggestCharts:', error);\n",
              "      }\n",
              "      quickchartButtonEl.classList.remove('colab-df-spinner');\n",
              "      quickchartButtonEl.classList.add('colab-df-quickchart-complete');\n",
              "    }\n",
              "    (() => {\n",
              "      let quickchartButtonEl =\n",
              "        document.querySelector('#df-71d3d2c4-9939-4178-8ea2-c5078567bdac button');\n",
              "      quickchartButtonEl.style.display =\n",
              "        google.colab.kernel.accessAllowed ? 'block' : 'none';\n",
              "    })();\n",
              "  </script>\n",
              "</div>\n",
              "    </div>\n",
              "  </div>\n"
            ]
          },
          "metadata": {},
          "execution_count": 153
        }
      ],
      "source": [
        "import pandas as pd\n",
        "\n",
        "df = pd.read_csv(\"/content/big_bang_theory_dataset.csv\")\n",
        "df.head()"
      ]
    },
    {
      "cell_type": "markdown",
      "source": [
        "Creación de una nueva columna"
      ],
      "metadata": {
        "id": "EaTebipAGYTS"
      }
    },
    {
      "cell_type": "code",
      "source": [
        "df[\"SceneID\"] = df.index + 1\n",
        "df.head()"
      ],
      "metadata": {
        "colab": {
          "base_uri": "https://localhost:8080/",
          "height": 206
        },
        "id": "xYzklCPUGQoh",
        "outputId": "70586220-5e24-4970-dd26-896be8c13eb6"
      },
      "execution_count": 113,
      "outputs": [
        {
          "output_type": "execute_result",
          "data": {
            "text/plain": [
              "   Unnamed: 0                   Location  \\\n",
              "0           0              The apartment   \n",
              "1           1              The apartment   \n",
              "2           2   The room in the basement   \n",
              "3           3  Sheldon and Amy’s bedroom   \n",
              "4           4                   A cinema   \n",
              "\n",
              "                                               Scene  \\\n",
              "0                                                NaN   \n",
              "1                                                NaN   \n",
              "2   Sheldon enters, takes out a box, takes a bean...   \n",
              "3                                                NaN   \n",
              "4                                                NaN   \n",
              "\n",
              "                                                Text  Speaker  Season  SceneID  \n",
              "0                              Again I’m right here.  Leonard       3        1  \n",
              "1  Fine. The record shall so reflect. Now getting...  Sheldon       5        2  \n",
              "2  One two three four five six seven eight… Drat....  Sheldon       6        3  \n",
              "3  I’m not sure. Earlier tonight things began org...  Sheldon      10        4  \n",
              "4              He’s finding the acoustic sweet spot.  Leonard       2        5  "
            ],
            "text/html": [
              "\n",
              "  <div id=\"df-96572fbf-a455-4874-9686-450c259ff248\" class=\"colab-df-container\">\n",
              "    <div>\n",
              "<style scoped>\n",
              "    .dataframe tbody tr th:only-of-type {\n",
              "        vertical-align: middle;\n",
              "    }\n",
              "\n",
              "    .dataframe tbody tr th {\n",
              "        vertical-align: top;\n",
              "    }\n",
              "\n",
              "    .dataframe thead th {\n",
              "        text-align: right;\n",
              "    }\n",
              "</style>\n",
              "<table border=\"1\" class=\"dataframe\">\n",
              "  <thead>\n",
              "    <tr style=\"text-align: right;\">\n",
              "      <th></th>\n",
              "      <th>Unnamed: 0</th>\n",
              "      <th>Location</th>\n",
              "      <th>Scene</th>\n",
              "      <th>Text</th>\n",
              "      <th>Speaker</th>\n",
              "      <th>Season</th>\n",
              "      <th>SceneID</th>\n",
              "    </tr>\n",
              "  </thead>\n",
              "  <tbody>\n",
              "    <tr>\n",
              "      <th>0</th>\n",
              "      <td>0</td>\n",
              "      <td>The apartment</td>\n",
              "      <td>NaN</td>\n",
              "      <td>Again I’m right here.</td>\n",
              "      <td>Leonard</td>\n",
              "      <td>3</td>\n",
              "      <td>1</td>\n",
              "    </tr>\n",
              "    <tr>\n",
              "      <th>1</th>\n",
              "      <td>1</td>\n",
              "      <td>The apartment</td>\n",
              "      <td>NaN</td>\n",
              "      <td>Fine. The record shall so reflect. Now getting...</td>\n",
              "      <td>Sheldon</td>\n",
              "      <td>5</td>\n",
              "      <td>2</td>\n",
              "    </tr>\n",
              "    <tr>\n",
              "      <th>2</th>\n",
              "      <td>2</td>\n",
              "      <td>The room in the basement</td>\n",
              "      <td>Sheldon enters, takes out a box, takes a bean...</td>\n",
              "      <td>One two three four five six seven eight… Drat....</td>\n",
              "      <td>Sheldon</td>\n",
              "      <td>6</td>\n",
              "      <td>3</td>\n",
              "    </tr>\n",
              "    <tr>\n",
              "      <th>3</th>\n",
              "      <td>3</td>\n",
              "      <td>Sheldon and Amy’s bedroom</td>\n",
              "      <td>NaN</td>\n",
              "      <td>I’m not sure. Earlier tonight things began org...</td>\n",
              "      <td>Sheldon</td>\n",
              "      <td>10</td>\n",
              "      <td>4</td>\n",
              "    </tr>\n",
              "    <tr>\n",
              "      <th>4</th>\n",
              "      <td>4</td>\n",
              "      <td>A cinema</td>\n",
              "      <td>NaN</td>\n",
              "      <td>He’s finding the acoustic sweet spot.</td>\n",
              "      <td>Leonard</td>\n",
              "      <td>2</td>\n",
              "      <td>5</td>\n",
              "    </tr>\n",
              "  </tbody>\n",
              "</table>\n",
              "</div>\n",
              "    <div class=\"colab-df-buttons\">\n",
              "\n",
              "  <div class=\"colab-df-container\">\n",
              "    <button class=\"colab-df-convert\" onclick=\"convertToInteractive('df-96572fbf-a455-4874-9686-450c259ff248')\"\n",
              "            title=\"Convert this dataframe to an interactive table.\"\n",
              "            style=\"display:none;\">\n",
              "\n",
              "  <svg xmlns=\"http://www.w3.org/2000/svg\" height=\"24px\" viewBox=\"0 -960 960 960\">\n",
              "    <path d=\"M120-120v-720h720v720H120Zm60-500h600v-160H180v160Zm220 220h160v-160H400v160Zm0 220h160v-160H400v160ZM180-400h160v-160H180v160Zm440 0h160v-160H620v160ZM180-180h160v-160H180v160Zm440 0h160v-160H620v160Z\"/>\n",
              "  </svg>\n",
              "    </button>\n",
              "\n",
              "  <style>\n",
              "    .colab-df-container {\n",
              "      display:flex;\n",
              "      gap: 12px;\n",
              "    }\n",
              "\n",
              "    .colab-df-convert {\n",
              "      background-color: #E8F0FE;\n",
              "      border: none;\n",
              "      border-radius: 50%;\n",
              "      cursor: pointer;\n",
              "      display: none;\n",
              "      fill: #1967D2;\n",
              "      height: 32px;\n",
              "      padding: 0 0 0 0;\n",
              "      width: 32px;\n",
              "    }\n",
              "\n",
              "    .colab-df-convert:hover {\n",
              "      background-color: #E2EBFA;\n",
              "      box-shadow: 0px 1px 2px rgba(60, 64, 67, 0.3), 0px 1px 3px 1px rgba(60, 64, 67, 0.15);\n",
              "      fill: #174EA6;\n",
              "    }\n",
              "\n",
              "    .colab-df-buttons div {\n",
              "      margin-bottom: 4px;\n",
              "    }\n",
              "\n",
              "    [theme=dark] .colab-df-convert {\n",
              "      background-color: #3B4455;\n",
              "      fill: #D2E3FC;\n",
              "    }\n",
              "\n",
              "    [theme=dark] .colab-df-convert:hover {\n",
              "      background-color: #434B5C;\n",
              "      box-shadow: 0px 1px 3px 1px rgba(0, 0, 0, 0.15);\n",
              "      filter: drop-shadow(0px 1px 2px rgba(0, 0, 0, 0.3));\n",
              "      fill: #FFFFFF;\n",
              "    }\n",
              "  </style>\n",
              "\n",
              "    <script>\n",
              "      const buttonEl =\n",
              "        document.querySelector('#df-96572fbf-a455-4874-9686-450c259ff248 button.colab-df-convert');\n",
              "      buttonEl.style.display =\n",
              "        google.colab.kernel.accessAllowed ? 'block' : 'none';\n",
              "\n",
              "      async function convertToInteractive(key) {\n",
              "        const element = document.querySelector('#df-96572fbf-a455-4874-9686-450c259ff248');\n",
              "        const dataTable =\n",
              "          await google.colab.kernel.invokeFunction('convertToInteractive',\n",
              "                                                    [key], {});\n",
              "        if (!dataTable) return;\n",
              "\n",
              "        const docLinkHtml = 'Like what you see? Visit the ' +\n",
              "          '<a target=\"_blank\" href=https://colab.research.google.com/notebooks/data_table.ipynb>data table notebook</a>'\n",
              "          + ' to learn more about interactive tables.';\n",
              "        element.innerHTML = '';\n",
              "        dataTable['output_type'] = 'display_data';\n",
              "        await google.colab.output.renderOutput(dataTable, element);\n",
              "        const docLink = document.createElement('div');\n",
              "        docLink.innerHTML = docLinkHtml;\n",
              "        element.appendChild(docLink);\n",
              "      }\n",
              "    </script>\n",
              "  </div>\n",
              "\n",
              "\n",
              "<div id=\"df-f54aad7f-92f9-4f1c-9eab-2f967c426f2f\">\n",
              "  <button class=\"colab-df-quickchart\" onclick=\"quickchart('df-f54aad7f-92f9-4f1c-9eab-2f967c426f2f')\"\n",
              "            title=\"Suggest charts.\"\n",
              "            style=\"display:none;\">\n",
              "\n",
              "<svg xmlns=\"http://www.w3.org/2000/svg\" height=\"24px\"viewBox=\"0 0 24 24\"\n",
              "     width=\"24px\">\n",
              "    <g>\n",
              "        <path d=\"M19 3H5c-1.1 0-2 .9-2 2v14c0 1.1.9 2 2 2h14c1.1 0 2-.9 2-2V5c0-1.1-.9-2-2-2zM9 17H7v-7h2v7zm4 0h-2V7h2v10zm4 0h-2v-4h2v4z\"/>\n",
              "    </g>\n",
              "</svg>\n",
              "  </button>\n",
              "\n",
              "<style>\n",
              "  .colab-df-quickchart {\n",
              "      --bg-color: #E8F0FE;\n",
              "      --fill-color: #1967D2;\n",
              "      --hover-bg-color: #E2EBFA;\n",
              "      --hover-fill-color: #174EA6;\n",
              "      --disabled-fill-color: #AAA;\n",
              "      --disabled-bg-color: #DDD;\n",
              "  }\n",
              "\n",
              "  [theme=dark] .colab-df-quickchart {\n",
              "      --bg-color: #3B4455;\n",
              "      --fill-color: #D2E3FC;\n",
              "      --hover-bg-color: #434B5C;\n",
              "      --hover-fill-color: #FFFFFF;\n",
              "      --disabled-bg-color: #3B4455;\n",
              "      --disabled-fill-color: #666;\n",
              "  }\n",
              "\n",
              "  .colab-df-quickchart {\n",
              "    background-color: var(--bg-color);\n",
              "    border: none;\n",
              "    border-radius: 50%;\n",
              "    cursor: pointer;\n",
              "    display: none;\n",
              "    fill: var(--fill-color);\n",
              "    height: 32px;\n",
              "    padding: 0;\n",
              "    width: 32px;\n",
              "  }\n",
              "\n",
              "  .colab-df-quickchart:hover {\n",
              "    background-color: var(--hover-bg-color);\n",
              "    box-shadow: 0 1px 2px rgba(60, 64, 67, 0.3), 0 1px 3px 1px rgba(60, 64, 67, 0.15);\n",
              "    fill: var(--button-hover-fill-color);\n",
              "  }\n",
              "\n",
              "  .colab-df-quickchart-complete:disabled,\n",
              "  .colab-df-quickchart-complete:disabled:hover {\n",
              "    background-color: var(--disabled-bg-color);\n",
              "    fill: var(--disabled-fill-color);\n",
              "    box-shadow: none;\n",
              "  }\n",
              "\n",
              "  .colab-df-spinner {\n",
              "    border: 2px solid var(--fill-color);\n",
              "    border-color: transparent;\n",
              "    border-bottom-color: var(--fill-color);\n",
              "    animation:\n",
              "      spin 1s steps(1) infinite;\n",
              "  }\n",
              "\n",
              "  @keyframes spin {\n",
              "    0% {\n",
              "      border-color: transparent;\n",
              "      border-bottom-color: var(--fill-color);\n",
              "      border-left-color: var(--fill-color);\n",
              "    }\n",
              "    20% {\n",
              "      border-color: transparent;\n",
              "      border-left-color: var(--fill-color);\n",
              "      border-top-color: var(--fill-color);\n",
              "    }\n",
              "    30% {\n",
              "      border-color: transparent;\n",
              "      border-left-color: var(--fill-color);\n",
              "      border-top-color: var(--fill-color);\n",
              "      border-right-color: var(--fill-color);\n",
              "    }\n",
              "    40% {\n",
              "      border-color: transparent;\n",
              "      border-right-color: var(--fill-color);\n",
              "      border-top-color: var(--fill-color);\n",
              "    }\n",
              "    60% {\n",
              "      border-color: transparent;\n",
              "      border-right-color: var(--fill-color);\n",
              "    }\n",
              "    80% {\n",
              "      border-color: transparent;\n",
              "      border-right-color: var(--fill-color);\n",
              "      border-bottom-color: var(--fill-color);\n",
              "    }\n",
              "    90% {\n",
              "      border-color: transparent;\n",
              "      border-bottom-color: var(--fill-color);\n",
              "    }\n",
              "  }\n",
              "</style>\n",
              "\n",
              "  <script>\n",
              "    async function quickchart(key) {\n",
              "      const quickchartButtonEl =\n",
              "        document.querySelector('#' + key + ' button');\n",
              "      quickchartButtonEl.disabled = true;  // To prevent multiple clicks.\n",
              "      quickchartButtonEl.classList.add('colab-df-spinner');\n",
              "      try {\n",
              "        const charts = await google.colab.kernel.invokeFunction(\n",
              "            'suggestCharts', [key], {});\n",
              "      } catch (error) {\n",
              "        console.error('Error during call to suggestCharts:', error);\n",
              "      }\n",
              "      quickchartButtonEl.classList.remove('colab-df-spinner');\n",
              "      quickchartButtonEl.classList.add('colab-df-quickchart-complete');\n",
              "    }\n",
              "    (() => {\n",
              "      let quickchartButtonEl =\n",
              "        document.querySelector('#df-f54aad7f-92f9-4f1c-9eab-2f967c426f2f button');\n",
              "      quickchartButtonEl.style.display =\n",
              "        google.colab.kernel.accessAllowed ? 'block' : 'none';\n",
              "    })();\n",
              "  </script>\n",
              "</div>\n",
              "    </div>\n",
              "  </div>\n"
            ]
          },
          "metadata": {},
          "execution_count": 113
        }
      ]
    },
    {
      "cell_type": "markdown",
      "source": [
        "df[col]: Acceder a una columna específica del DataFrame"
      ],
      "metadata": {
        "id": "iFRNaDZWDmWM"
      }
    },
    {
      "cell_type": "code",
      "source": [
        "scene_column = df[[\"Speaker\", \"Text\"]]\n",
        "print(\"Acceder a la columna 'Scene':\")\n",
        "scene_column.head()"
      ],
      "metadata": {
        "colab": {
          "base_uri": "https://localhost:8080/",
          "height": 224
        },
        "id": "_cGtuGgRDV69",
        "outputId": "e9b61f44-bb68-493d-911a-bf98a4d9c8fb"
      },
      "execution_count": 116,
      "outputs": [
        {
          "output_type": "stream",
          "name": "stdout",
          "text": [
            "Acceder a la columna 'Scene':\n"
          ]
        },
        {
          "output_type": "execute_result",
          "data": {
            "text/plain": [
              "   Speaker                                               Text\n",
              "0  Leonard                              Again I’m right here.\n",
              "1  Sheldon  Fine. The record shall so reflect. Now getting...\n",
              "2  Sheldon  One two three four five six seven eight… Drat....\n",
              "3  Sheldon  I’m not sure. Earlier tonight things began org...\n",
              "4  Leonard              He’s finding the acoustic sweet spot."
            ],
            "text/html": [
              "\n",
              "  <div id=\"df-dd0fde62-c73a-4f97-8982-02f8d68adef2\" class=\"colab-df-container\">\n",
              "    <div>\n",
              "<style scoped>\n",
              "    .dataframe tbody tr th:only-of-type {\n",
              "        vertical-align: middle;\n",
              "    }\n",
              "\n",
              "    .dataframe tbody tr th {\n",
              "        vertical-align: top;\n",
              "    }\n",
              "\n",
              "    .dataframe thead th {\n",
              "        text-align: right;\n",
              "    }\n",
              "</style>\n",
              "<table border=\"1\" class=\"dataframe\">\n",
              "  <thead>\n",
              "    <tr style=\"text-align: right;\">\n",
              "      <th></th>\n",
              "      <th>Speaker</th>\n",
              "      <th>Text</th>\n",
              "    </tr>\n",
              "  </thead>\n",
              "  <tbody>\n",
              "    <tr>\n",
              "      <th>0</th>\n",
              "      <td>Leonard</td>\n",
              "      <td>Again I’m right here.</td>\n",
              "    </tr>\n",
              "    <tr>\n",
              "      <th>1</th>\n",
              "      <td>Sheldon</td>\n",
              "      <td>Fine. The record shall so reflect. Now getting...</td>\n",
              "    </tr>\n",
              "    <tr>\n",
              "      <th>2</th>\n",
              "      <td>Sheldon</td>\n",
              "      <td>One two three four five six seven eight… Drat....</td>\n",
              "    </tr>\n",
              "    <tr>\n",
              "      <th>3</th>\n",
              "      <td>Sheldon</td>\n",
              "      <td>I’m not sure. Earlier tonight things began org...</td>\n",
              "    </tr>\n",
              "    <tr>\n",
              "      <th>4</th>\n",
              "      <td>Leonard</td>\n",
              "      <td>He’s finding the acoustic sweet spot.</td>\n",
              "    </tr>\n",
              "  </tbody>\n",
              "</table>\n",
              "</div>\n",
              "    <div class=\"colab-df-buttons\">\n",
              "\n",
              "  <div class=\"colab-df-container\">\n",
              "    <button class=\"colab-df-convert\" onclick=\"convertToInteractive('df-dd0fde62-c73a-4f97-8982-02f8d68adef2')\"\n",
              "            title=\"Convert this dataframe to an interactive table.\"\n",
              "            style=\"display:none;\">\n",
              "\n",
              "  <svg xmlns=\"http://www.w3.org/2000/svg\" height=\"24px\" viewBox=\"0 -960 960 960\">\n",
              "    <path d=\"M120-120v-720h720v720H120Zm60-500h600v-160H180v160Zm220 220h160v-160H400v160Zm0 220h160v-160H400v160ZM180-400h160v-160H180v160Zm440 0h160v-160H620v160ZM180-180h160v-160H180v160Zm440 0h160v-160H620v160Z\"/>\n",
              "  </svg>\n",
              "    </button>\n",
              "\n",
              "  <style>\n",
              "    .colab-df-container {\n",
              "      display:flex;\n",
              "      gap: 12px;\n",
              "    }\n",
              "\n",
              "    .colab-df-convert {\n",
              "      background-color: #E8F0FE;\n",
              "      border: none;\n",
              "      border-radius: 50%;\n",
              "      cursor: pointer;\n",
              "      display: none;\n",
              "      fill: #1967D2;\n",
              "      height: 32px;\n",
              "      padding: 0 0 0 0;\n",
              "      width: 32px;\n",
              "    }\n",
              "\n",
              "    .colab-df-convert:hover {\n",
              "      background-color: #E2EBFA;\n",
              "      box-shadow: 0px 1px 2px rgba(60, 64, 67, 0.3), 0px 1px 3px 1px rgba(60, 64, 67, 0.15);\n",
              "      fill: #174EA6;\n",
              "    }\n",
              "\n",
              "    .colab-df-buttons div {\n",
              "      margin-bottom: 4px;\n",
              "    }\n",
              "\n",
              "    [theme=dark] .colab-df-convert {\n",
              "      background-color: #3B4455;\n",
              "      fill: #D2E3FC;\n",
              "    }\n",
              "\n",
              "    [theme=dark] .colab-df-convert:hover {\n",
              "      background-color: #434B5C;\n",
              "      box-shadow: 0px 1px 3px 1px rgba(0, 0, 0, 0.15);\n",
              "      filter: drop-shadow(0px 1px 2px rgba(0, 0, 0, 0.3));\n",
              "      fill: #FFFFFF;\n",
              "    }\n",
              "  </style>\n",
              "\n",
              "    <script>\n",
              "      const buttonEl =\n",
              "        document.querySelector('#df-dd0fde62-c73a-4f97-8982-02f8d68adef2 button.colab-df-convert');\n",
              "      buttonEl.style.display =\n",
              "        google.colab.kernel.accessAllowed ? 'block' : 'none';\n",
              "\n",
              "      async function convertToInteractive(key) {\n",
              "        const element = document.querySelector('#df-dd0fde62-c73a-4f97-8982-02f8d68adef2');\n",
              "        const dataTable =\n",
              "          await google.colab.kernel.invokeFunction('convertToInteractive',\n",
              "                                                    [key], {});\n",
              "        if (!dataTable) return;\n",
              "\n",
              "        const docLinkHtml = 'Like what you see? Visit the ' +\n",
              "          '<a target=\"_blank\" href=https://colab.research.google.com/notebooks/data_table.ipynb>data table notebook</a>'\n",
              "          + ' to learn more about interactive tables.';\n",
              "        element.innerHTML = '';\n",
              "        dataTable['output_type'] = 'display_data';\n",
              "        await google.colab.output.renderOutput(dataTable, element);\n",
              "        const docLink = document.createElement('div');\n",
              "        docLink.innerHTML = docLinkHtml;\n",
              "        element.appendChild(docLink);\n",
              "      }\n",
              "    </script>\n",
              "  </div>\n",
              "\n",
              "\n",
              "<div id=\"df-cbe51c3f-abd9-46c8-86ef-a723b7ae66ca\">\n",
              "  <button class=\"colab-df-quickchart\" onclick=\"quickchart('df-cbe51c3f-abd9-46c8-86ef-a723b7ae66ca')\"\n",
              "            title=\"Suggest charts.\"\n",
              "            style=\"display:none;\">\n",
              "\n",
              "<svg xmlns=\"http://www.w3.org/2000/svg\" height=\"24px\"viewBox=\"0 0 24 24\"\n",
              "     width=\"24px\">\n",
              "    <g>\n",
              "        <path d=\"M19 3H5c-1.1 0-2 .9-2 2v14c0 1.1.9 2 2 2h14c1.1 0 2-.9 2-2V5c0-1.1-.9-2-2-2zM9 17H7v-7h2v7zm4 0h-2V7h2v10zm4 0h-2v-4h2v4z\"/>\n",
              "    </g>\n",
              "</svg>\n",
              "  </button>\n",
              "\n",
              "<style>\n",
              "  .colab-df-quickchart {\n",
              "      --bg-color: #E8F0FE;\n",
              "      --fill-color: #1967D2;\n",
              "      --hover-bg-color: #E2EBFA;\n",
              "      --hover-fill-color: #174EA6;\n",
              "      --disabled-fill-color: #AAA;\n",
              "      --disabled-bg-color: #DDD;\n",
              "  }\n",
              "\n",
              "  [theme=dark] .colab-df-quickchart {\n",
              "      --bg-color: #3B4455;\n",
              "      --fill-color: #D2E3FC;\n",
              "      --hover-bg-color: #434B5C;\n",
              "      --hover-fill-color: #FFFFFF;\n",
              "      --disabled-bg-color: #3B4455;\n",
              "      --disabled-fill-color: #666;\n",
              "  }\n",
              "\n",
              "  .colab-df-quickchart {\n",
              "    background-color: var(--bg-color);\n",
              "    border: none;\n",
              "    border-radius: 50%;\n",
              "    cursor: pointer;\n",
              "    display: none;\n",
              "    fill: var(--fill-color);\n",
              "    height: 32px;\n",
              "    padding: 0;\n",
              "    width: 32px;\n",
              "  }\n",
              "\n",
              "  .colab-df-quickchart:hover {\n",
              "    background-color: var(--hover-bg-color);\n",
              "    box-shadow: 0 1px 2px rgba(60, 64, 67, 0.3), 0 1px 3px 1px rgba(60, 64, 67, 0.15);\n",
              "    fill: var(--button-hover-fill-color);\n",
              "  }\n",
              "\n",
              "  .colab-df-quickchart-complete:disabled,\n",
              "  .colab-df-quickchart-complete:disabled:hover {\n",
              "    background-color: var(--disabled-bg-color);\n",
              "    fill: var(--disabled-fill-color);\n",
              "    box-shadow: none;\n",
              "  }\n",
              "\n",
              "  .colab-df-spinner {\n",
              "    border: 2px solid var(--fill-color);\n",
              "    border-color: transparent;\n",
              "    border-bottom-color: var(--fill-color);\n",
              "    animation:\n",
              "      spin 1s steps(1) infinite;\n",
              "  }\n",
              "\n",
              "  @keyframes spin {\n",
              "    0% {\n",
              "      border-color: transparent;\n",
              "      border-bottom-color: var(--fill-color);\n",
              "      border-left-color: var(--fill-color);\n",
              "    }\n",
              "    20% {\n",
              "      border-color: transparent;\n",
              "      border-left-color: var(--fill-color);\n",
              "      border-top-color: var(--fill-color);\n",
              "    }\n",
              "    30% {\n",
              "      border-color: transparent;\n",
              "      border-left-color: var(--fill-color);\n",
              "      border-top-color: var(--fill-color);\n",
              "      border-right-color: var(--fill-color);\n",
              "    }\n",
              "    40% {\n",
              "      border-color: transparent;\n",
              "      border-right-color: var(--fill-color);\n",
              "      border-top-color: var(--fill-color);\n",
              "    }\n",
              "    60% {\n",
              "      border-color: transparent;\n",
              "      border-right-color: var(--fill-color);\n",
              "    }\n",
              "    80% {\n",
              "      border-color: transparent;\n",
              "      border-right-color: var(--fill-color);\n",
              "      border-bottom-color: var(--fill-color);\n",
              "    }\n",
              "    90% {\n",
              "      border-color: transparent;\n",
              "      border-bottom-color: var(--fill-color);\n",
              "    }\n",
              "  }\n",
              "</style>\n",
              "\n",
              "  <script>\n",
              "    async function quickchart(key) {\n",
              "      const quickchartButtonEl =\n",
              "        document.querySelector('#' + key + ' button');\n",
              "      quickchartButtonEl.disabled = true;  // To prevent multiple clicks.\n",
              "      quickchartButtonEl.classList.add('colab-df-spinner');\n",
              "      try {\n",
              "        const charts = await google.colab.kernel.invokeFunction(\n",
              "            'suggestCharts', [key], {});\n",
              "      } catch (error) {\n",
              "        console.error('Error during call to suggestCharts:', error);\n",
              "      }\n",
              "      quickchartButtonEl.classList.remove('colab-df-spinner');\n",
              "      quickchartButtonEl.classList.add('colab-df-quickchart-complete');\n",
              "    }\n",
              "    (() => {\n",
              "      let quickchartButtonEl =\n",
              "        document.querySelector('#df-cbe51c3f-abd9-46c8-86ef-a723b7ae66ca button');\n",
              "      quickchartButtonEl.style.display =\n",
              "        google.colab.kernel.accessAllowed ? 'block' : 'none';\n",
              "    })();\n",
              "  </script>\n",
              "</div>\n",
              "    </div>\n",
              "  </div>\n"
            ]
          },
          "metadata": {},
          "execution_count": 116
        }
      ]
    },
    {
      "cell_type": "markdown",
      "source": [
        "df.loc[label]: Acceder a una fila específica por etiqueta"
      ],
      "metadata": {
        "id": "K_wKQPl3D8Rk"
      }
    },
    {
      "cell_type": "code",
      "source": [
        "row_label_2 = df.loc[20]\n",
        "print(\"\\nAcceder a la fila con etiqueta 2:\")\n",
        "print(row_label_2)"
      ],
      "metadata": {
        "colab": {
          "base_uri": "https://localhost:8080/"
        },
        "id": "_-7W0s_XDZGD",
        "outputId": "37a8c41d-e93e-45e0-d34d-73e131cfe348"
      },
      "execution_count": 118,
      "outputs": [
        {
          "output_type": "stream",
          "name": "stdout",
          "text": [
            "\n",
            "Acceder a la fila con etiqueta 2:\n",
            "Unnamed: 0                                                   20\n",
            "Location                                          The apartment\n",
            "Scene          The three guys are still holding the ring, Ho...\n",
            "Text          Well if you want privacy let go of the ring. I...\n",
            "Speaker                                                     Raj\n",
            "Season                                                        3\n",
            "SceneID                                                      21\n",
            "Name: 20, dtype: object\n"
          ]
        }
      ]
    },
    {
      "cell_type": "markdown",
      "source": [
        "df.iloc[loc]: Acceder a una fila específica por ubicación"
      ],
      "metadata": {
        "id": "dU5phwOhEHo2"
      }
    },
    {
      "cell_type": "code",
      "source": [
        "row_location_3 = df.iloc[3]\n",
        "print(\"\\nAcceder a la fila en la ubicación 3:\")\n",
        "print(row_location_3)"
      ],
      "metadata": {
        "colab": {
          "base_uri": "https://localhost:8080/"
        },
        "id": "CVrsuP0LDaqf",
        "outputId": "dfc5fc1d-240f-49b9-a891-91ef0d314d95"
      },
      "execution_count": 48,
      "outputs": [
        {
          "output_type": "stream",
          "name": "stdout",
          "text": [
            "\n",
            "Acceder a la fila en la ubicación 3:\n",
            "Unnamed: 0                                                    3\n",
            "Location                              Sheldon and Amy’s bedroom\n",
            "Scene                                                       NaN\n",
            "Text          I’m not sure. Earlier tonight things began org...\n",
            "Speaker                                                 Sheldon\n",
            "Season                                                       10\n",
            "SceneID                                                       4\n",
            "Name: 3, dtype: object\n"
          ]
        }
      ]
    },
    {
      "cell_type": "markdown",
      "source": [
        "df[i:j]: Acceder a un rango de filas"
      ],
      "metadata": {
        "id": "ZQQ5TnTZEYPJ"
      }
    },
    {
      "cell_type": "code",
      "source": [
        "#rows_range_1_to_3 = df[1:4]\n",
        "rows_range_1_to_3 = df[20:50:5]\n",
        "print(\"\\nAcceder a las filas del índice 1 al 3:\")\n",
        "print(rows_range_1_to_3.head())"
      ],
      "metadata": {
        "colab": {
          "base_uri": "https://localhost:8080/"
        },
        "id": "xfoTvrYEDcH_",
        "outputId": "500e5883-e434-43f8-af89-954d613e9bad"
      },
      "execution_count": 121,
      "outputs": [
        {
          "output_type": "stream",
          "name": "stdout",
          "text": [
            "\n",
            "Acceder a las filas del índice 1 al 3:\n",
            "    Unnamed: 0       Location  \\\n",
            "20          20  The apartment   \n",
            "25          25  The apartment   \n",
            "30          30  The apartment   \n",
            "35          35    Penny’s car   \n",
            "40          40  The apartment   \n",
            "\n",
            "                                                Scene  \\\n",
            "20   The three guys are still holding the ring, Ho...   \n",
            "25                                                NaN   \n",
            "30   The guys are playing Boggle, There is a Kling...   \n",
            "35                                                NaN   \n",
            "40                                                NaN   \n",
            "\n",
            "                                                 Text  Speaker  Season  \\\n",
            "20  Well if you want privacy let go of the ring. I...      Raj       3   \n",
            "25                                        Definitely.    Penny       9   \n",
            "30                                      Yeah I guess.    Penny       2   \n",
            "35    Because he’s not like us Penny. We’re dreamers.  Sheldon       7   \n",
            "40                                      Mitzy’s dead?  Leonard       3   \n",
            "\n",
            "    SceneID  \n",
            "20       21  \n",
            "25       26  \n",
            "30       31  \n",
            "35       36  \n",
            "40       41  \n"
          ]
        }
      ]
    },
    {
      "cell_type": "markdown",
      "source": [
        "df[bool_v]: Acceder a filas basadas en una condición booleana"
      ],
      "metadata": {
        "id": "g2wWptRsEjLv"
      }
    },
    {
      "cell_type": "code",
      "source": [
        "sheldon_speakers = df[df[\"Speaker\"] == \"Sheldon\"]\n",
        "print(\"\\nAcceder a las filas donde el hablante es Sheldon:\")\n",
        "print(sheldon_speakers)"
      ],
      "metadata": {
        "colab": {
          "base_uri": "https://localhost:8080/"
        },
        "id": "90OYXWQ9Dda6",
        "outputId": "36950b63-03d8-46da-c390-64ca5e71900a"
      },
      "execution_count": 50,
      "outputs": [
        {
          "output_type": "stream",
          "name": "stdout",
          "text": [
            "\n",
            "Acceder a las filas donde el hablante es Sheldon:\n",
            "       Unnamed: 0                   Location  \\\n",
            "1               1              The apartment   \n",
            "2               2   The room in the basement   \n",
            "3               3  Sheldon and Amy’s bedroom   \n",
            "9               9                   The same   \n",
            "18             18           The Physics Bowl   \n",
            "...           ...                        ...   \n",
            "38908       38908       Outside Penny’s door   \n",
            "38909       38909              The apartment   \n",
            "38914       38914                   The same   \n",
            "38916       38916              The Apartment   \n",
            "38917       38917              The apartment   \n",
            "\n",
            "                                                   Scene  \\\n",
            "1                                                    NaN   \n",
            "2       Sheldon enters, takes out a box, takes a bean...   \n",
            "3                                                    NaN   \n",
            "9                                                 later,   \n",
            "18                                                   NaN   \n",
            "...                                                  ...   \n",
            "38908                                    Leonard knocks,   \n",
            "38909                                                NaN   \n",
            "38914   later, Leonard is dressed as Frodo, Howard ap...   \n",
            "38916                                                NaN   \n",
            "38917   Sheldon has a series of whiteboards across th...   \n",
            "\n",
            "                                                    Text  Speaker  Season  \\\n",
            "1      Fine. The record shall so reflect. Now getting...  Sheldon       5   \n",
            "2      One two three four five six seven eight… Drat....  Sheldon       6   \n",
            "3      I’m not sure. Earlier tonight things began org...  Sheldon      10   \n",
            "9      Oh. A small human wreaks havoc on his wife’s g...  Sheldon      10   \n",
            "18                                     A sigma particle.  Sheldon       1   \n",
            "...                                                  ...      ...     ...   \n",
            "38908  Yes but you didn’t portray her as completely i...  Sheldon       1   \n",
            "38909  All right fine she doesn’t need her own point ...  Sheldon       9   \n",
            "38914  I don’t care if anybody gets it I’m going as t...  Sheldon       1   \n",
            "38916  It’s been in every wallet I’ve owned since I w...  Sheldon       1   \n",
            "38917                                  Killed by badger.  Sheldon       4   \n",
            "\n",
            "       SceneID  \n",
            "1            2  \n",
            "2            3  \n",
            "3            4  \n",
            "9           10  \n",
            "18          19  \n",
            "...        ...  \n",
            "38908    38909  \n",
            "38909    38910  \n",
            "38914    38915  \n",
            "38916    38917  \n",
            "38917    38918  \n",
            "\n",
            "[11447 rows x 7 columns]\n"
          ]
        }
      ]
    },
    {
      "cell_type": "markdown",
      "source": [
        "Función Pivot: Cambiar la estructura del DataFrame"
      ],
      "metadata": {
        "id": "fX4m-G3hFyjr"
      }
    },
    {
      "cell_type": "code",
      "source": [
        "pivot_table = df.pivot(index=\"Season\", columns=\"SceneID\", values=\"Speaker\")\n",
        "print(\"DataFrame después de aplicar pivot:\")\n",
        "print(pivot_table)"
      ],
      "metadata": {
        "colab": {
          "base_uri": "https://localhost:8080/"
        },
        "id": "uWS5IyeDF3Ov",
        "outputId": "010bb146-123b-4319-f4d6-e1b656f1da3c"
      },
      "execution_count": 51,
      "outputs": [
        {
          "output_type": "stream",
          "name": "stdout",
          "text": [
            "DataFrame después de aplicar pivot:\n",
            "SceneID    1        2        3        4        5       6       7      8      \\\n",
            "Season                                                                        \n",
            "1            NaN      NaN      NaN      NaN      NaN     NaN     NaN    NaN   \n",
            "2            NaN      NaN      NaN      NaN  Leonard     NaN     NaN    NaN   \n",
            "3        Leonard      NaN      NaN      NaN      NaN     NaN     NaN    NaN   \n",
            "4            NaN      NaN      NaN      NaN      NaN     NaN     NaN    NaN   \n",
            "5            NaN  Sheldon      NaN      NaN      NaN     NaN     NaN  Penny   \n",
            "6            NaN      NaN  Sheldon      NaN      NaN     NaN  Howard    NaN   \n",
            "7            NaN      NaN      NaN      NaN      NaN     NaN     NaN    NaN   \n",
            "8            NaN      NaN      NaN      NaN      NaN  Howard     NaN    NaN   \n",
            "9            NaN      NaN      NaN      NaN      NaN     NaN     NaN    NaN   \n",
            "10           NaN      NaN      NaN  Sheldon      NaN     NaN     NaN    NaN   \n",
            "\n",
            "SceneID    9        10     ...    38909    38910  38911  38912   38913 38914  \\\n",
            "Season                     ...                                                 \n",
            "1            NaN      NaN  ...  Sheldon      NaN    NaN    NaN     NaN   NaN   \n",
            "2        Leonard      NaN  ...      NaN      NaN    NaN    NaN     NaN   NaN   \n",
            "3            NaN      NaN  ...      NaN      NaN    NaN    NaN     NaN   Raj   \n",
            "4            NaN      NaN  ...      NaN      NaN    NaN    NaN     NaN   NaN   \n",
            "5            NaN      NaN  ...      NaN      NaN    NaN    NaN     NaN   NaN   \n",
            "6            NaN      NaN  ...      NaN      NaN    NaN    NaN     NaN   NaN   \n",
            "7            NaN      NaN  ...      NaN      NaN    NaN    NaN  Howard   NaN   \n",
            "8            NaN      NaN  ...      NaN      NaN  Penny    NaN     NaN   NaN   \n",
            "9            NaN      NaN  ...      NaN  Sheldon    NaN    NaN     NaN   NaN   \n",
            "10           NaN  Sheldon  ...      NaN      NaN    NaN  Penny     NaN   NaN   \n",
            "\n",
            "SceneID    38915   38916    38917    38918  \n",
            "Season                                      \n",
            "1        Sheldon  Howard  Sheldon      NaN  \n",
            "2            NaN     NaN      NaN      NaN  \n",
            "3            NaN     NaN      NaN      NaN  \n",
            "4            NaN     NaN      NaN  Sheldon  \n",
            "5            NaN     NaN      NaN      NaN  \n",
            "6            NaN     NaN      NaN      NaN  \n",
            "7            NaN     NaN      NaN      NaN  \n",
            "8            NaN     NaN      NaN      NaN  \n",
            "9            NaN     NaN      NaN      NaN  \n",
            "10           NaN     NaN      NaN      NaN  \n",
            "\n",
            "[10 rows x 38918 columns]\n"
          ]
        }
      ]
    },
    {
      "cell_type": "markdown",
      "source": [
        "Función Melt: Deshacer la función Pivot"
      ],
      "metadata": {
        "id": "u9iWelqwHWWR"
      }
    },
    {
      "cell_type": "code",
      "source": [
        "melted_df = pd.melt(pivot_table, var_name=\"SceneID\", value_name=\"Scene\")\n",
        "print(\"\\nDataFrame después de aplicar melt:\")\n",
        "print(melted_df)"
      ],
      "metadata": {
        "colab": {
          "base_uri": "https://localhost:8080/"
        },
        "id": "egnnaJDkHUa1",
        "outputId": "cb94410e-b458-4c7e-e8dd-c34531000d62"
      },
      "execution_count": 52,
      "outputs": [
        {
          "output_type": "stream",
          "name": "stdout",
          "text": [
            "\n",
            "DataFrame después de aplicar melt:\n",
            "        SceneID    Scene\n",
            "0             1      NaN\n",
            "1             1      NaN\n",
            "2             1  Leonard\n",
            "3             1      NaN\n",
            "4             1      NaN\n",
            "...         ...      ...\n",
            "389175    38918      NaN\n",
            "389176    38918      NaN\n",
            "389177    38918      NaN\n",
            "389178    38918      NaN\n",
            "389179    38918      NaN\n",
            "\n",
            "[389180 rows x 2 columns]\n"
          ]
        }
      ]
    },
    {
      "cell_type": "markdown",
      "source": [
        "Función Stack: Apilar columnas"
      ],
      "metadata": {
        "id": "_oE2qwslHk5R"
      }
    },
    {
      "cell_type": "code",
      "source": [
        "stacked_df = df.stack()\n",
        "print(\"\\nDataFrame después de aplicar stack:\")\n",
        "print(stacked_df)"
      ],
      "metadata": {
        "colab": {
          "base_uri": "https://localhost:8080/"
        },
        "id": "R3EZlgvCHiFF",
        "outputId": "c0ee4b94-dfeb-4873-eab7-b42819916af1"
      },
      "execution_count": 53,
      "outputs": [
        {
          "output_type": "stream",
          "name": "stdout",
          "text": [
            "\n",
            "DataFrame después de aplicar stack:\n",
            "0      Unnamed: 0                                                    0\n",
            "       Location                                          The apartment\n",
            "       Text                                      Again I’m right here.\n",
            "       Speaker                                                 Leonard\n",
            "       Season                                                        3\n",
            "                                           ...                        \n",
            "38917  Scene          Sheldon has a series of whiteboards across th...\n",
            "       Text                                          Killed by badger.\n",
            "       Speaker                                                 Sheldon\n",
            "       Season                                                        4\n",
            "       SceneID                                                   38918\n",
            "Length: 239183, dtype: object\n"
          ]
        }
      ]
    },
    {
      "cell_type": "markdown",
      "source": [
        "Función Unstack: Desapilar columnas"
      ],
      "metadata": {
        "id": "sCOM5sYzHwX9"
      }
    },
    {
      "cell_type": "code",
      "source": [
        "unstacked_df = stacked_df.unstack()\n",
        "print(\"\\nDataFrame después de aplicar unstack:\")\n",
        "print(unstacked_df)"
      ],
      "metadata": {
        "colab": {
          "base_uri": "https://localhost:8080/"
        },
        "id": "Myp1Ubk-FEnm",
        "outputId": "99563aef-2a2d-4b6b-fa03-29dd150c75ef"
      },
      "execution_count": 54,
      "outputs": [
        {
          "output_type": "stream",
          "name": "stdout",
          "text": [
            "\n",
            "DataFrame después de aplicar unstack:\n",
            "      Unnamed: 0                   Location  \\\n",
            "0              0              The apartment   \n",
            "1              1              The apartment   \n",
            "2              2   The room in the basement   \n",
            "3              3  Sheldon and Amy’s bedroom   \n",
            "4              4                   A cinema   \n",
            "...          ...                        ...   \n",
            "38913      38913            Raj’s apartment   \n",
            "38914      38914                   The same   \n",
            "38915      38915               The hospital   \n",
            "38916      38916              The Apartment   \n",
            "38917      38917              The apartment   \n",
            "\n",
            "                                                   Scene  \\\n",
            "0                                                    NaN   \n",
            "1                                                    NaN   \n",
            "2       Sheldon enters, takes out a box, takes a bean...   \n",
            "3                                                    NaN   \n",
            "4                                                    NaN   \n",
            "...                                                  ...   \n",
            "38913   Raj is watching a Bollywood movie, There is a...   \n",
            "38914   later, Leonard is dressed as Frodo, Howard ap...   \n",
            "38915              Howard runs in and up to the counter,   \n",
            "38916                                                NaN   \n",
            "38917   Sheldon has a series of whiteboards across th...   \n",
            "\n",
            "                                                    Text  Speaker Season  \\\n",
            "0                                  Again I’m right here.  Leonard      3   \n",
            "1      Fine. The record shall so reflect. Now getting...  Sheldon      5   \n",
            "2      One two three four five six seven eight… Drat....  Sheldon      6   \n",
            "3      I’m not sure. Earlier tonight things began org...  Sheldon     10   \n",
            "4                  He’s finding the acoustic sweet spot.  Leonard      2   \n",
            "...                                                  ...      ...    ...   \n",
            "38913                                 You’re impossible.      Raj      3   \n",
            "38914  I don’t care if anybody gets it I’m going as t...  Sheldon      1   \n",
            "38915                                                NaN   Howard      1   \n",
            "38916  It’s been in every wallet I’ve owned since I w...  Sheldon      1   \n",
            "38917                                  Killed by badger.  Sheldon      4   \n",
            "\n",
            "      SceneID  \n",
            "0           1  \n",
            "1           2  \n",
            "2           3  \n",
            "3           4  \n",
            "4           5  \n",
            "...       ...  \n",
            "38913   38914  \n",
            "38914   38915  \n",
            "38915   38916  \n",
            "38916   38917  \n",
            "38917   38918  \n",
            "\n",
            "[38918 rows x 7 columns]\n"
          ]
        }
      ]
    },
    {
      "cell_type": "code",
      "source": [
        "import pandas as pd\n",
        "\n",
        "data1 = {'EpisodeID': [3, 5, 6, 10], 'EpisodeName': ['EpiA', 'EpiB', 'EpiC', 'EpiD']}\n",
        "data2 = {'EpisodeID': [3, 5, 7, 10], 'EpisodeType': ['A', 'B', 'C', 'A']}\n",
        "\n",
        "df1 = pd.DataFrame(data1)\n",
        "df2 = pd.DataFrame(data2)\n",
        "print(df1.head())\n",
        "print(df2.head())\n",
        "\n",
        "inner_join = pd.merge(df1, df2, on='EpisodeID', how='inner')\n",
        "print(\"Inner Join:\")\n",
        "print(inner_join.head())"
      ],
      "metadata": {
        "colab": {
          "base_uri": "https://localhost:8080/"
        },
        "id": "xKxM4UQsItRZ",
        "outputId": "1cd87afe-343f-497b-aeeb-6f9f1a266cb2"
      },
      "execution_count": 122,
      "outputs": [
        {
          "output_type": "stream",
          "name": "stdout",
          "text": [
            "   EpisodeID EpisodeName\n",
            "0          3        EpiA\n",
            "1          5        EpiB\n",
            "2          6        EpiC\n",
            "3         10        EpiD\n",
            "   EpisodeID EpisodeType\n",
            "0          3           A\n",
            "1          5           B\n",
            "2          7           C\n",
            "3         10           A\n",
            "Inner Join:\n",
            "   EpisodeID EpisodeName EpisodeType\n",
            "0          3        EpiA           A\n",
            "1          5        EpiB           B\n",
            "2         10        EpiD           A\n"
          ]
        }
      ]
    },
    {
      "cell_type": "markdown",
      "source": [
        "## EDA"
      ],
      "metadata": {
        "id": "XlBdcmHwOhGb"
      }
    },
    {
      "cell_type": "code",
      "source": [
        "import matplotlib.pyplot as plt\n",
        "\n",
        "plt.hist(df[\"Season\"], bins=10, edgecolor='k', alpha=0.7)\n",
        "plt.xlabel(\"Temporada\")\n",
        "plt.ylabel(\"Frecuencia\")\n",
        "plt.title(\"Histograma de la Temporada\")\n",
        "plt.show()"
      ],
      "metadata": {
        "colab": {
          "base_uri": "https://localhost:8080/",
          "height": 472
        },
        "id": "DlAP34ttzFmj",
        "outputId": "5f39aa93-3ce9-4941-a6b3-999cdad25e3c"
      },
      "execution_count": 126,
      "outputs": [
        {
          "output_type": "display_data",
          "data": {
            "text/plain": [
              "<Figure size 640x480 with 1 Axes>"
            ],
            "image/png": "[encoded data removed]"
          },
          "metadata": {}
        }
      ]
    },
    {
      "cell_type": "code",
      "source": [
        "speaker_counts = df[\"Speaker\"].value_counts()\n",
        "speaker_counts.plot(kind='bar', color='skyblue', alpha=0.7)\n",
        "plt.xlabel(\"Hablante\")\n",
        "plt.ylabel(\"Frecuencia\")\n",
        "plt.title(\"Gráfico de Barras de los hablantes\")\n",
        "plt.xticks(rotation=0)\n",
        "plt.show()"
      ],
      "metadata": {
        "colab": {
          "base_uri": "https://localhost:8080/",
          "height": 472
        },
        "id": "Ga8WjQE3NPWE",
        "outputId": "75bc07bf-960e-4908-9a31-197129c00e51"
      },
      "execution_count": 128,
      "outputs": [
        {
          "output_type": "display_data",
          "data": {
            "text/plain": [
              "<Figure size 640x480 with 1 Axes>"
            ],
            "image/png": "[encoded data removed]"
          },
          "metadata": {}
        }
      ]
    },
    {
      "cell_type": "code",
      "source": [
        "import pandas as pd\n",
        "import numpy as np\n",
        "\n",
        "t = np.arange(0, 4.02, 0.02)\n",
        "s = np.sin(t)\n",
        "\n",
        "\n",
        "print(t)\n",
        "\n",
        "print(s)\n",
        "\n",
        "df = pd.DataFrame({\n",
        "    't':t,\n",
        "    's':s\n",
        "    })\n",
        "\n",
        "\n",
        "df['s2'] = np.sin(t)\n",
        "\n",
        "print(df)"
      ],
      "metadata": {
        "colab": {
          "base_uri": "https://localhost:8080/"
        },
        "id": "jxRB1A3FTEXK",
        "outputId": "1f8a9a23-eb2a-4498-d082-f28bb4aee7f1"
      },
      "execution_count": 137,
      "outputs": [
        {
          "output_type": "stream",
          "name": "stdout",
          "text": [
            "[0.   0.02 0.04 0.06 0.08 0.1  0.12 0.14 0.16 0.18 0.2  0.22 0.24 0.26\n",
            " 0.28 0.3  0.32 0.34 0.36 0.38 0.4  0.42 0.44 0.46 0.48 0.5  0.52 0.54\n",
            " 0.56 0.58 0.6  0.62 0.64 0.66 0.68 0.7  0.72 0.74 0.76 0.78 0.8  0.82\n",
            " 0.84 0.86 0.88 0.9  0.92 0.94 0.96 0.98 1.   1.02 1.04 1.06 1.08 1.1\n",
            " 1.12 1.14 1.16 1.18 1.2  1.22 1.24 1.26 1.28 1.3  1.32 1.34 1.36 1.38\n",
            " 1.4  1.42 1.44 1.46 1.48 1.5  1.52 1.54 1.56 1.58 1.6  1.62 1.64 1.66\n",
            " 1.68 1.7  1.72 1.74 1.76 1.78 1.8  1.82 1.84 1.86 1.88 1.9  1.92 1.94\n",
            " 1.96 1.98 2.   2.02 2.04 2.06 2.08 2.1  2.12 2.14 2.16 2.18 2.2  2.22\n",
            " 2.24 2.26 2.28 2.3  2.32 2.34 2.36 2.38 2.4  2.42 2.44 2.46 2.48 2.5\n",
            " 2.52 2.54 2.56 2.58 2.6  2.62 2.64 2.66 2.68 2.7  2.72 2.74 2.76 2.78\n",
            " 2.8  2.82 2.84 2.86 2.88 2.9  2.92 2.94 2.96 2.98 3.   3.02 3.04 3.06\n",
            " 3.08 3.1  3.12 3.14 3.16 3.18 3.2  3.22 3.24 3.26 3.28 3.3  3.32 3.34\n",
            " 3.36 3.38 3.4  3.42 3.44 3.46 3.48 3.5  3.52 3.54 3.56 3.58 3.6  3.62\n",
            " 3.64 3.66 3.68 3.7  3.72 3.74 3.76 3.78 3.8  3.82 3.84 3.86 3.88 3.9\n",
            " 3.92 3.94 3.96 3.98 4.  ]\n",
            "[ 0.          0.01999867  0.03998933  0.05996401  0.07991469  0.09983342\n",
            "  0.11971221  0.13954311  0.15931821  0.17902957  0.19866933  0.21822962\n",
            "  0.23770263  0.25708055  0.27635565  0.29552021  0.31456656  0.33348709\n",
            "  0.35227423  0.37092047  0.38941834  0.40776045  0.42593947  0.44394811\n",
            "  0.46177918  0.47942554  0.49688014  0.51413599  0.5311862   0.54802394\n",
            "  0.56464247  0.58103516  0.59719544  0.61311685  0.62879302  0.64421769\n",
            "  0.65938467  0.67428791  0.68892145  0.70327942  0.71735609  0.73114583\n",
            "  0.74464312  0.75784256  0.77073888  0.78332691  0.79560162  0.8075581\n",
            "  0.81919157  0.83049737  0.84147098  0.85210802  0.86240423  0.87235548\n",
            "  0.88195781  0.89120736  0.90010044  0.9086335   0.91680311  0.92460601\n",
            "  0.93203909  0.93909936  0.945784    0.95209034  0.95801586  0.96355819\n",
            "  0.9687151   0.97348454  0.9778646   0.98185353  0.98544973  0.98865176\n",
            "  0.99145835  0.99386836  0.99588084  0.99749499  0.99871014  0.99952583\n",
            "  0.99994172  0.99995765  0.9995736   0.99878974  0.99760638  0.99602399\n",
            "  0.9940432   0.99166481  0.98888977  0.98571918  0.98215432  0.97819661\n",
            "  0.97384763  0.96910913  0.963983    0.95847128  0.95257619  0.94630009\n",
            "  0.93964547  0.93261501  0.92521152  0.91743796  0.90929743  0.90079319\n",
            "  0.89192865  0.88270735  0.87313298  0.86320937  0.85294048  0.84233043\n",
            "  0.83138346  0.82010395  0.8084964   0.79656547  0.78431593  0.77175266\n",
            "  0.75888071  0.74570521  0.73223144  0.71846479  0.70441077  0.69007498\n",
            "  0.67546318  0.6605812   0.645435    0.63003063  0.61437426  0.59847214\n",
            "  0.58233065  0.56595623  0.54935544  0.53253491  0.51550137  0.49826164\n",
            "  0.48082261  0.46319126  0.44537464  0.42737988  0.40921417  0.39088478\n",
            "  0.37239904  0.35376435  0.33498815  0.31607796  0.29704135  0.27788593\n",
            "  0.25861935  0.23924933  0.21978361  0.20022998  0.18059627  0.16089031\n",
            "  0.14112001  0.12129326  0.10141799  0.08150215  0.06155372  0.04158066\n",
            "  0.02159098  0.00159265 -0.01840631 -0.0383979  -0.05837414 -0.07832703\n",
            " -0.09824859 -0.11813086 -0.13796587 -0.15774569 -0.17746242 -0.19710817\n",
            " -0.21667508 -0.23615532 -0.2555411  -0.27482467 -0.29399831 -0.31305436\n",
            " -0.33198519 -0.35078323 -0.36944096 -0.38795092 -0.4063057  -0.42449797\n",
            " -0.44252044 -0.46036591 -0.47802725 -0.49549737 -0.51276931 -0.52983614\n",
            " -0.54669105 -0.56332728 -0.5797382  -0.59591722 -0.61185789 -0.62755382\n",
            " -0.64299874 -0.65818647 -0.67311093 -0.68776616 -0.70214629 -0.71624557\n",
            " -0.73005836 -0.74357914 -0.7568025 ]\n",
            "        t         s        s2\n",
            "0    0.00  0.000000  0.000000\n",
            "1    0.02  0.019999  0.019999\n",
            "2    0.04  0.039989  0.039989\n",
            "3    0.06  0.059964  0.059964\n",
            "4    0.08  0.079915  0.079915\n",
            "..    ...       ...       ...\n",
            "196  3.92 -0.702146 -0.702146\n",
            "197  3.94 -0.716246 -0.716246\n",
            "198  3.96 -0.730058 -0.730058\n",
            "199  3.98 -0.743579 -0.743579\n",
            "200  4.00 -0.756802 -0.756802\n",
            "\n",
            "[201 rows x 3 columns]\n"
          ]
        }
      ]
    },
    {
      "cell_type": "code",
      "source": [
        "df.to_csv(\"df_test.csv\", sep=\";\", index=False)"
      ],
      "metadata": {
        "id": "YKDXf3-oWS6Q"
      },
      "execution_count": 139,
      "outputs": []
    },
    {
      "cell_type": "code",
      "source": [
        "def is_prime(n):\n",
        "  for i in range(2, n):\n",
        "    if (n % i == 0):\n",
        "      return False\n",
        "  return True\n",
        "\n",
        "def find_prime_rec(n, num=2, list_prime=[]):\n",
        "  if(len(list_prime) == n):\n",
        "    return list_prime[-1]\n",
        "  if(is_prime(num)):\n",
        "    list_prime.append(num) # list_prime += [num]\n",
        "  return find_prime_rec(n, num+1, list_prime)\n",
        "\n",
        "def find_prime(n):\n",
        "  if(n < 0):\n",
        "    return 1\n",
        "  count = 0\n",
        "  num = 2\n",
        "  while count != n:\n",
        "    if(is_prime(num)):\n",
        "      count += 1 # count = count + 1\n",
        "    num += 1 # num = num + 1\n",
        "  return num-1\n",
        "\n",
        "find_prime_rec(73)\n"
      ],
      "metadata": {
        "colab": {
          "base_uri": "https://localhost:8080/"
        },
        "id": "qGaAbShYYaoX",
        "outputId": "dd2e4ca7-d4c7-4ee6-e0fe-1fbd03bacee8"
      },
      "execution_count": 158,
      "outputs": [
        {
          "output_type": "execute_result",
          "data": {
            "text/plain": [
              "367"
            ]
          },
          "metadata": {},
          "execution_count": 158
        }
      ]
    },
    {
      "cell_type": "code",
      "source": [
        "print(9/3)"
      ],
      "metadata": {
        "colab": {
          "base_uri": "https://localhost:8080/"
        },
        "id": "hL3SJhUwZaQF",
        "outputId": "0d307688-925d-4c21-9d49-50a62190155f"
      },
      "execution_count": 144,
      "outputs": [
        {
          "output_type": "stream",
          "name": "stdout",
          "text": [
            "3.0\n"
          ]
        }
      ]
    },
    {
      "cell_type": "code",
      "source": [
        "print(9//3)"
      ],
      "metadata": {
        "colab": {
          "base_uri": "https://localhost:8080/"
        },
        "id": "ILuOceLOZdw0",
        "outputId": "459c6bba-8be1-4c8c-bba8-ed4329e06e14"
      },
      "execution_count": 145,
      "outputs": [
        {
          "output_type": "stream",
          "name": "stdout",
          "text": [
            "3\n"
          ]
        }
      ]
    },
    {
      "cell_type": "code",
      "source": [
        "print(9%3)"
      ],
      "metadata": {
        "colab": {
          "base_uri": "https://localhost:8080/"
        },
        "id": "aBRggDd1Zg6Z",
        "outputId": "fd762ff0-fb0d-4a3e-aff3-934e8b6f2a5d"
      },
      "execution_count": 143,
      "outputs": [
        {
          "output_type": "stream",
          "name": "stdout",
          "text": [
            "0\n"
          ]
        }
      ]
    },
    {
      "cell_type": "code",
      "source": [
        "# Ver las primeras filas del DataFrame\n",
        "print(\"Primeras 5 filas del DataFrame:\")\n",
        "print(df.head())\n",
        "\n",
        "# Obtener información general sobre el DataFrame\n",
        "print(\"\\nInformación general del DataFrame:\")\n",
        "print(df.info())\n",
        "\n",
        "# Estadísticas descriptivas para columnas numéricas\n",
        "print(\"\\nEstadísticas descriptivas:\")\n",
        "print(df.describe())\n",
        "\n",
        "# Conteo de valores únicos en cada columna\n",
        "print(\"\\nConteo de valores únicos por columna:\")\n",
        "print(df.nunique())\n",
        "\n",
        "# Conteo de valores nulos por columna\n",
        "print(\"\\nConteo de valores nulos por columna:\")\n",
        "print(df.isnull().sum())\n",
        "\n",
        "# Valor más común en cada columna\n",
        "print(\"\\nValor más común en cada columna:\")\n",
        "print(df.mode().iloc[0])\n",
        "\n",
        "# Conteo de valores únicos en la columna \"Speaker\"\n",
        "print(\"\\nValores únicos en la columna 'Speaker':\")\n",
        "print(df[\"Speaker\"].unique())\n",
        "\n",
        "# Conteo de valores únicos en la columna \"Location\"\n",
        "print(\"\\nValores únicos en la columna 'Location':\")\n",
        "print(df[\"Location\"].unique())"
      ],
      "metadata": {
        "colab": {
          "base_uri": "https://localhost:8080/"
        },
        "id": "civD7_Psf51X",
        "outputId": "a7c6c2f1-1cdb-478f-c3d3-e1997baafe2b"
      },
      "execution_count": 154,
      "outputs": [
        {
          "output_type": "stream",
          "name": "stdout",
          "text": [
            "Primeras 5 filas del DataFrame:\n",
            "   Unnamed: 0                   Location  \\\n",
            "0           0              The apartment   \n",
            "1           1              The apartment   \n",
            "2           2   The room in the basement   \n",
            "3           3  Sheldon and Amy’s bedroom   \n",
            "4           4                   A cinema   \n",
            "\n",
            "                                               Scene  \\\n",
            "0                                                NaN   \n",
            "1                                                NaN   \n",
            "2   Sheldon enters, takes out a box, takes a bean...   \n",
            "3                                                NaN   \n",
            "4                                                NaN   \n",
            "\n",
            "                                                Text  Speaker  Season  \n",
            "0                              Again I’m right here.  Leonard       3  \n",
            "1  Fine. The record shall so reflect. Now getting...  Sheldon       5  \n",
            "2  One two three four five six seven eight… Drat....  Sheldon       6  \n",
            "3  I’m not sure. Earlier tonight things began org...  Sheldon      10  \n",
            "4              He’s finding the acoustic sweet spot.  Leonard       2  \n",
            "\n",
            "Información general del DataFrame:\n",
            "<class 'pandas.core.frame.DataFrame'>\n",
            "RangeIndex: 38918 entries, 0 to 38917\n",
            "Data columns (total 6 columns):\n",
            " #   Column      Non-Null Count  Dtype \n",
            "---  ------      --------------  ----- \n",
            " 0   Unnamed: 0  38918 non-null  int64 \n",
            " 1   Location    38868 non-null  object\n",
            " 2   Scene       6955 non-null   object\n",
            " 3   Text        37688 non-null  object\n",
            " 4   Speaker     38918 non-null  object\n",
            " 5   Season      38918 non-null  int64 \n",
            "dtypes: int64(2), object(4)\n",
            "memory usage: 1.8+ MB\n",
            "None\n",
            "\n",
            "Estadísticas descriptivas:\n",
            "         Unnamed: 0        Season\n",
            "count  38918.000000  38918.000000\n",
            "mean   19458.500000      5.406213\n",
            "std    11234.803225      2.856214\n",
            "min        0.000000      1.000000\n",
            "25%     9729.250000      3.000000\n",
            "50%    19458.500000      5.000000\n",
            "75%    29187.750000      8.000000\n",
            "max    38917.000000     10.000000\n",
            "\n",
            "Conteo de valores únicos por columna:\n",
            "Unnamed: 0    38918\n",
            "Location        521\n",
            "Scene           385\n",
            "Text          29302\n",
            "Speaker           5\n",
            "Season           10\n",
            "dtype: int64\n",
            "\n",
            "Conteo de valores nulos por columna:\n",
            "Unnamed: 0        0\n",
            "Location         50\n",
            "Scene         31963\n",
            "Text           1230\n",
            "Speaker           0\n",
            "Season            0\n",
            "dtype: int64\n",
            "\n",
            "Valor más común en cada columna:\n",
            "Unnamed: 0                0\n",
            "Location      The apartment\n",
            "Scene                later,\n",
            "Text                    No.\n",
            "Speaker             Sheldon\n",
            "Season                  2.0\n",
            "Name: 0, dtype: object\n",
            "\n",
            "Valores únicos en la columna 'Speaker':\n",
            "['Leonard' 'Sheldon' 'Howard' 'Penny' 'Raj']\n",
            "\n",
            "Valores únicos en la columna 'Location':\n",
            "['The apartment' 'The room in the basement' 'Sheldon and Amy’s bedroom'\n",
            " 'A cinema'\n",
            " 'Webcam conversation between Bernadette’s Office and the International Space Station'\n",
            " 'Penny’s bedroom' 'The same' 'The escape room' 'The cafeteria'\n",
            " 'The hallway' 'The foyer' 'The Physics Bowl' 'The memorial'\n",
            " 'The university cafeteria' 'The comic book store' 'The store'\n",
            " 'Moments later' 'The living room' 'Lobby of the apartment building'\n",
            " 'The next morning' 'Penny’s car' 'Penny’s apartment' 'The stairwell'\n",
            " 'The steam tunnel' 'Leonard’s laboratory' 'Amy’s apartment'\n",
            " 'Howard and Bernadette’s Bedroom' 'Penny’s apartment door' 'Penny’s door'\n",
            " 'Sheldon’s office' 'Sheldon’s bedroom' 'The Apartment'\n",
            " 'Howard and Bernadette’s bedroom' 'Howard’s bedroom'\n",
            " 'Leonard and Penny are in bed' 'The restaurant' 'Later still'\n",
            " 'Outside Sheldon’s bedroom' 'The dining car' 'The living room door'\n",
            " 'Outside Howard’s house' 'Outside the coffee shop' 'Mrs Wolowitz’s house'\n",
            " 'Outside Raj’s flat' 'Howard and Bernadette’s kitchen' 'The funeral'\n",
            " 'Outside the bar' 'Outside Penny’s door' 'Amy’s lab' 'The North Pole'\n",
            " 'The laundry room' 'The wine tasting' 'Howard’s laboratory' 'A corridor'\n",
            " 'Howard’s workshop' 'Raj’s apartment' 'Leonard’s bedroom'\n",
            " 'A shed on the paintball range' 'Sheldon and Amy’s apartment'\n",
            " 'Howard and Bernadette’s house' 'The Entomology Department'\n",
            " 'Leonard’s room' 'Howard and Bernadette’s apartment' 'The soup kitchen'\n",
            " 'Leonard’s car' 'The airport arrivals area' 'The welcoming party'\n",
            " 'Leonard and Penny’s bedroom' 'A bar' 'Howard and Bernadette’s garage'\n",
            " 'Sheldon’s classroom' 'A Chinese restaurant' 'The Wedding Chapel'\n",
            " 'The university lunch room' 'On the roof of the apartment building'\n",
            " 'A restaurant' 'The cinema line' 'The lobby' 'On the train'\n",
            " 'Leonard and Sheldon' 'The International Space Station' 'The pub'\n",
            " 'The Cheesecake Factory' 'The laboratory' 'Kingman Police Station'\n",
            " 'All five in Leonard’s car' 'The bowling alley' 'The telescope room'\n",
            " 'The entrance lobby' 'The following morning' 'The supermarket'\n",
            " 'Raj’s car' 'The lab' 'Soyuz capsule' 'A corridor at the university'\n",
            " 'A corridor at a sperm bank' 'The vets surgery' 'A jewellery store'\n",
            " 'Hotel corridor' 'Outside Kurt’s door' 'The kitchen' 'The train station'\n",
            " 'City Hall' 'Sheldon and Leonard’s apartment' 'Outside Raj’s office'\n",
            " 'Leonard’s lab' 'A bookshop' 'The building foyer' 'The theatre'\n",
            " 'Leonards car' 'Entering the lobby of the building' 'A supermarket'\n",
            " 'A shoe shop' 'Penny' 'Entering the apartment building'\n",
            " 'The apartment kitchen' 'The cabin' 'The apartment '\n",
            " 'The University Cafeteria' 'Amy’s laboratory' 'Mexico'\n",
            " 'A washroom at the university' 'The parking spot' 'The park'\n",
            " 'Leonard and Lesley’s lab' 'Howard and Bernadette’s nursery'\n",
            " 'Outside Todd Zarnecki’s house' 'The fort' 'Raj’s Apartment'\n",
            " 'A University corridor' 'A hospital waiting room'\n",
            " 'Human Resources department' 'A furniture store'\n",
            " 'A corridor at the University' 'A corridor in the basement'\n",
            " 'The clean room' 'Inside the apartment' 'The conference room'\n",
            " 'Outside Leonard’s bedroom' 'The paint ball range' 'A coffee shop'\n",
            " 'A few moments later' 'An employment office'\n",
            " 'Sheldon and Leonard’s living room' 'The minivan' 'The Comic Book Store'\n",
            " 'The downstairs lobby' 'An ice-cream parlour' 'The mixer' 'The closet'\n",
            " 'The cinema' 'At Penny’s door' 'A church'\n",
            " 'Leonard and Penny are in Penny’s bed' 'The movie theatre'\n",
            " 'Inside the cheesecake factory freezer' 'The new laboratory'\n",
            " 'A school hallway' 'The University cafeteria' 'Colonel Williams’ office'\n",
            " 'The Cheesecake Factory bar' 'Howard’s lab' 'Outside Penny’s apartment'\n",
            " 'The Comic-con' 'Outside in stairwell' 'The hotel room'\n",
            " 'Penny’s Apartment' 'Leonard’s old school' 'Alicia’s apartment'\n",
            " 'The Cheesecake Factory Bar' 'The ground floor hallway' 'A barber’s shop'\n",
            " 'The stairwell of the apartment building' 'A gymnasium' 'The party'\n",
            " 'Outside Raj’s apartment' 'An apartment building' 'The gymnasium'\n",
            " 'Penny’s doorway' 'Penny and Leonard exiting Leonard’s bedroom'\n",
            " 'The waiting room' 'A queue outside the comic book store'\n",
            " 'In the university' 'Later' 'Amy’s car'\n",
            " 'Cutting between the International Space Station and the Bernadette’s apartment'\n",
            " 'The Le Brea Tar Pits' 'The hospital' 'The party bus'\n",
            " 'Outside an apartment building' 'A Wedding Chapel'\n",
            " 'Inside Penny’s apartment' 'The stairs of the apartment building'\n",
            " 'Sheldon’s dream' 'A sports bar' 'The bar' nan 'Sheldon’s old bedroom'\n",
            " 'Howard’s mother’s house' 'Wil Wheaton’s house' 'A storage facility'\n",
            " 'At the apartment door' 'A building corridor' 'A moment later'\n",
            " 'A sushi bar' 'a restaurant' 'Outside' 'Bernadette’s office'\n",
            " 'The corridor outside Sheldon’s office' 'The building entrance lobby'\n",
            " 'The Mars Rover control room' 'The goth club' 'Vasquez Rocks'\n",
            " 'Mrs Wolowitz’s House' 'The mixer party' 'The wedding ceremony'\n",
            " 'The university gymnasium' 'Mrs Davis’ office' 'Howard’s car'\n",
            " 'The apartment doorway' 'A Swiss hotel room' 'Raj’s office'\n",
            " 'Mrs Wolowitz’s dining room' 'Sheldon and Amy’s door' 'Bernadette’s car'\n",
            " 'Leonard approaches Penny’s door and knocks' 'Capital Comics'\n",
            " 'A little later' 'The daycare' 'A bookstore' 'The flat' 'The mall'\n",
            " 'Bernadette’s apartment'\n",
            " 'Cutting between the International Space Station and the apartment '\n",
            " 'Amy’s hotel room' 'University corridor' 'Dr Lorvis’ basement'\n",
            " 'Howard’s old bedroom' 'The apartment living room' 'In the bathroom'\n",
            " 'The living room of the apartment' 'Barry Kripke’s office'\n",
            " 'Howard and Bernadette’s dining room' 'The DMV' 'Leaving the apartment'\n",
            " 'A radio studio' 'Alice’s apartment'\n",
            " 'Howard and Bernadette’s living room' 'Mrs Wolowitz’s living room'\n",
            " 'The movie line' 'The Cafeteria' 'The sushi restaurant' 'Penny’s flat'\n",
            " 'The department party' 'A corridor at the conference' 'The roof'\n",
            " 'An electrical store' 'Leonard being ejected into the corridor'\n",
            " 'The desert' 'Emily’s bedroom' 'Howard’s house'\n",
            " 'Howard and Bernadette’s spare room' 'The aquarium' 'The street'\n",
            " 'Bernadette’s parents’ garage' 'A sauna'\n",
            " 'The street outside the apartment block' 'The cheesecake factory bar'\n",
            " 'The radio studio' 'The girl’s apartment' 'Howard and Berndette’s house'\n",
            " 'Howard and Lesley’s lab' 'Sheldon and Raj’s office' 'The stairs'\n",
            " 'A Vegas bathroom' 'A lecture room at the university'\n",
            " 'The bar of the Cheesecake Factory' 'The casino bar' 'The psychic shop'\n",
            " 'The apartment building lobby' 'Inside Sheldon and Leonard’s apartment'\n",
            " 'The gym' 'The rooftop' 'Leonard is presenting'\n",
            " 'Howard and Bernadette’s House' 'A bar at the Las Vegas Casino'\n",
            " 'A suit shop' 'Outside Amy’s apartment' 'The deli'\n",
            " 'On the deck of a ship on the North Sea' 'The clothes bank'\n",
            " 'A Vegas hotel room' 'Rothman’s office' 'The guys laboratory'\n",
            " 'Raj’s room' 'Professor Proton’s house'\n",
            " 'On the stairwell of the apartment building' 'A hire car' 'A diner'\n",
            " 'Bernadette’s bedroom' 'The University clean room'\n",
            " 'Dr Gablehouser’s office' 'Sheldon' 'The side of the road'\n",
            " 'An office at the university' 'Dr Gallo’s office' 'The bathroom'\n",
            " 'The Human Resources Department' 'The dining room' 'The graveyard'\n",
            " 'The apartment stairwell' 'A hotel room'\n",
            " 'Ground floor hallway of the apartment building' 'The university mixer'\n",
            " 'A hotel conference room' 'In Penny’s bed' 'An airplane' 'A street'\n",
            " 'A store' 'Sheldon and Amy on skype' 'The laboratory '\n",
            " 'Inside Penny’s car' 'A cowboy bar' 'Outside the apartment' 'The spa'\n",
            " 'Outside Amy’s lab' 'Wil Wheaton’s party' 'Sheldon’s mother’s kitchen'\n",
            " 'A doctor’s surgery' 'Penny’s dad’s car' 'A waiting room' 'Raj’s Lab'\n",
            " 'A sushi restaurant' 'The university basement' 'Mrs Wolowitz’s kitchen'\n",
            " 'A shooting range' 'An 1800’s house' 'A park' 'The classroom' 'A limo'\n",
            " 'The paintball range'\n",
            " 'A dance video game where the characters are imperial stormtroopers from Star Wars and Bobba Fett'\n",
            " 'A karaoke bar' 'A graveyard' 'Howard’s hotel room' 'A lecture hall'\n",
            " 'A tattoo parlour' 'The van' 'A vet’s surgery' 'The delivery suite'\n",
            " 'The diner' 'The geology lab' 'The Airport Arrivals Hall'\n",
            " 'An alley behind the restaurant' 'The movie set' 'Sometime later'\n",
            " 'The top model house' 'A children’s play area' 'A Thai restaurant'\n",
            " 'Penny’s bed' 'Penny and Leonard are asleep in Leonard’s bed' 'A jungle'\n",
            " 'Outside Penny’s old apartment building' 'A parking garage'\n",
            " 'A conference room' 'The parking garage'\n",
            " 'Howard and Raj sneak up the stairwell carrying presents'\n",
            " 'Bert’s apartment' 'A bar in Texas' 'Living room'\n",
            " 'Opening shows some scenes from the final episode of the previous season'\n",
            " 'Amy’s bedroom' 'The upstairs landing of Mrs Wolowitz’s house'\n",
            " 'Emily’s surgery' 'A delivery room' 'A hospital ward'\n",
            " 'Pharmaceutical Company Office' 'Mrs Cooper’s living room'\n",
            " 'The temple car park' 'A clothing store' 'Outside the movie theatre'\n",
            " 'The Renaissance Fair' 'Emily’s apartment' 'A basketball court'\n",
            " 'Howard and Bernadette’s bathroom' 'An office in Skywalker Ranch'\n",
            " 'Outside the building' 'A hospital' 'A clothes shop' 'A hospital room'\n",
            " 'Professor Laughlin’s office' 'Outside the University legal office'\n",
            " 'Howard and Bernadette’s patio' 'The toilets'\n",
            " 'Bernadette’s father’s house' 'The storage unit'\n",
            " 'A liquor store parking lot' 'Later that night'\n",
            " 'Leonard approaches Penny’s door' 'Stephen Hawking’s office'\n",
            " 'A Soyuz Spaceship capsule' 'The hospital nursery' 'Howard’s bathroom'\n",
            " 'Howard and Bernadette’s minivan' 'Angels Stadium' 'The apartment door'\n",
            " 'On the stairs of Sheldon and Leonard’s building'\n",
            " 'Sheldon and Amy listening at Penny’s door' 'An ice cream parlour'\n",
            " 'Leonard is exiting the apartment' 'Howard and Bernadette’s van'\n",
            " 'A bathroom at the university' 'A rental car' 'The tattoo parlour'\n",
            " 'The award ceremony' 'Janine’s office' 'The craft museum'\n",
            " 'Mrs Latham’s car' 'The electrical store'\n",
            " 'The bar at the Cheesecake Factory'\n",
            " 'Leonard and Penny are asleep in Leonard’s bed'\n",
            " 'Everyone but Sheldon is in the kitchen of the apartment' 'The hotel bar'\n",
            " 'The climbing centre' 'A pet store' 'Outside Stan Lee’s house' 'A deli'\n",
            " 'Sheldon’s childhood home' ' A coffee shop' 'An office suite'\n",
            " 'Outside Penny’s ex-boyfriend’s apartment'\n",
            " 'The geology lab at the University' 'The clothing bank'\n",
            " 'Dr Gablehauser’s office' 'The hotel' 'A corridor in the university'\n",
            " 'The conference' 'Sheldon’s mother’s house' 'The office'\n",
            " 'The store changing rooms' 'Raj is exiting his office' 'Outside the lab'\n",
            " 'Outside Howard’s front door' 'The airplane' 'A taxi'\n",
            " 'Running down the stairwell' 'The audition room' 'A gift shop'\n",
            " 'Stuarts former bedroom in Howard and Bernadette’s house'\n",
            " 'Back at the apartment' 'A hospital corridor' 'Penny’s bathroom'\n",
            " 'The ball pit' 'Outside the apartment building' 'Penny’s front door'\n",
            " 'An escape room' ' I should have bought condoms.' 'The courtroom'\n",
            " 'A library' 'Sheldon and Leonard’s flat' 'The birthday party'\n",
            " 'A bridal store' 'The cab of a steam locomotive' 'The Pullman dining car'\n",
            " 'Todd Zarnecki’s house'\n",
            " 'Cutting between the International Space Station and the apartment  then he might as well be at the Coffee Bean over on Lake Street.'\n",
            " 'The baggage check' 'A classroom' 'The Zoo'\n",
            " 'Kripke is in a storage cupboard of some kind' 'The Soyuz Capsule'\n",
            " 'The wedding' 'Rock climbing centre' 'A railway station'\n",
            " 'The roller disco' 'Penny’s restaurant' 'The taxi'\n",
            " 'The apartment bathroom' 'Inside the game' 'The cheesecake factory'\n",
            " 'Howard and Bernadette’s hot tub' 'LeVar Burton’s house' 'A dry cleaners'\n",
            " 'A shopping mall' 'Emily’s bed' 'Santa’s grotto' 'The Vegas strip club'\n",
            " 'The police cell' 'A public washroom' 'A shop changing rooms'\n",
            " 'Raj’s bedroom' 'The Ellen Show' 'A bus' 'Sheldon’s bedrooom'\n",
            " 'Outside the soup kitchen' 'Hotel tea room' 'Inside a store'\n",
            " 'The crawlspace under Howard and Bernadette’s house'\n",
            " 'Later on the party bus' 'Amy and Sheldon’s bathroom'\n",
            " 'An airport baggage desk' 'Howard and Bernadett’s house' 'The limo'\n",
            " 'A big wheel' 'Outside the hospital washroom' 'Howard’s motor scooter'\n",
            " 'Bozeman' 'The telescope lab' 'A park bench' 'A bathroom shower'\n",
            " 'The elevator shaft' 'The Baggage Claim' 'Princeton'\n",
            " 'A university corridor' 'The library' 'Some time later'\n",
            " 'A Korean ballroom dancing club' 'A film set' 'Bert’s car'\n",
            " 'Outside on the street' 'Stuck in a traffic tailback' 'A police cell']\n"
          ]
        }
      ]
    }
  ]
}