{
 "cells": [
  {
   "cell_type": "code",
   "execution_count": 20,
   "metadata": {},
   "outputs": [
    {
     "name": "stdout",
     "output_type": "stream",
     "text": [
      "Precisión: 1.0\n"
     ]
    }
   ],
   "source": [
    "import numpy as np\n",
    "import pandas as pd\n",
    "from sklearn import datasets\n",
    "from sklearn.metrics import accuracy_score\n",
    "#from sklearn.tree import plot_model\n",
    "from sklearn.model_selection import train_test_split\n",
    "from sklearn.naive_bayes import GaussianNB\n",
    "#from sklearn.tree._export import plot_model\n",
    "\n",
    "\n",
    "import matplotlib.pyplot as plt\n",
    "\n",
    "# Suponiendo que tenemos un conjunto de datos con las siguientes características:\n",
    "# - \"Sepal_Length\": Longitud del sépalo\n",
    "# - \"Sepal_Width\": Ancho del sépalo\n",
    "# - \"Petal_Length\": Longitud del pétalo\n",
    "# - \"Petal_Width\": Ancho del pétalo\n",
    "# - \"Especie\": Especie de la flor (Iris-Setosa, Iris-Versicolor, Iris-Virginica)\n",
    "\n",
    "iris_data = iris = datasets.load_iris() # Replace \"/path/to/iris.csv\" with the correct file path\n",
    "\n",
    "# Convertir iris_data en un DataFrame de pandas\n",
    "iris_df = pd.DataFrame(data=iris_data.data, columns=iris_data.feature_names)\n",
    "iris_df[\"Especie\"] = iris_data.target\n",
    "\n",
    "# Separando las características y la clase objetivo\n",
    "X = iris_df.drop(\"Especie\", axis=1)\n",
    "y = iris_df[\"Especie\"]\n",
    "\n",
    "# Dividiendo el conjunto de datos en entrenamiento y prueba\n",
    "\n",
    "\n",
    "X_train, X_test, y_train, y_test = train_test_split(X, y, test_size=0.25, random_state=42)\n",
    "\n",
    "# Creando un modelo Naive Bayes\n",
    "\n",
    "nb_model = GaussianNB()\n",
    "\n",
    "# Entrenando el modelo\n",
    "nb_model.fit(X_train, y_train)\n",
    "\n",
    "# Prediciendo la clase de nuevas flores\n",
    "y_pred = nb_model.predict(X_test)\n",
    "\n",
    "# Evaluando la precisión del modelo\n",
    "\n",
    "\n",
    "\n",
    "# Plotting the Naive Bayes model\n",
    "# plot_model(nb_model, feature_names=iris_data.feature_names, class_names=iris_data.target_names)\n",
    "# plt.show()\n",
    "\n",
    "accuracy = accuracy_score(y_test, y_pred)\n",
    "\n",
    "print(\"Precisión:\", accuracy)\n",
    "\n",
    "\n",
    "\n",
    "# # Plotting the Naive Bayes model\n",
    "# plot_model(nb_model, feature_names=iris_data.feature_names, class_names=iris_data.target_names)\n",
    "# plt.show()\n"
   ]
  },
  {
   "cell_type": "code",
   "execution_count": 24,
   "metadata": {},
   "outputs": [
    {
     "ename": "ImportError",
     "evalue": "cannot import name 'plot_confusion_matrix' from 'sklearn.metrics._plot.confusion_matrix' (/Library/Frameworks/Python.framework/Versions/3.11/lib/python3.11/site-packages/sklearn/metrics/_plot/confusion_matrix.py)",
     "output_type": "error",
     "traceback": [
      "\u001b[0;31m---------------------------------------------------------------------------\u001b[0m",
      "\u001b[0;31mImportError\u001b[0m                               Traceback (most recent call last)",
      "Cell \u001b[0;32mIn[24], line 2\u001b[0m\n\u001b[1;32m      1\u001b[0m \u001b[38;5;28;01mfrom\u001b[39;00m \u001b[38;5;21;01msklearn\u001b[39;00m\u001b[38;5;21;01m.\u001b[39;00m\u001b[38;5;21;01mmetrics\u001b[39;00m \u001b[38;5;28;01mimport\u001b[39;00m confusion_matrix\n\u001b[0;32m----> 2\u001b[0m \u001b[38;5;28;01mfrom\u001b[39;00m \u001b[38;5;21;01msklearn\u001b[39;00m\u001b[38;5;21;01m.\u001b[39;00m\u001b[38;5;21;01mmetrics\u001b[39;00m\u001b[38;5;21;01m.\u001b[39;00m\u001b[38;5;21;01m_plot\u001b[39;00m\u001b[38;5;21;01m.\u001b[39;00m\u001b[38;5;21;01mconfusion_matrix\u001b[39;00m \u001b[38;5;28;01mimport\u001b[39;00m plot_confusion_matrix\n\u001b[1;32m      3\u001b[0m \u001b[38;5;28;01mfrom\u001b[39;00m \u001b[38;5;21;01msklearn\u001b[39;00m\u001b[38;5;21;01m.\u001b[39;00m\u001b[38;5;21;01mmetrics\u001b[39;00m \u001b[38;5;28;01mimport\u001b[39;00m confusion_matrix, plot_confusion_matrix\n\u001b[1;32m      5\u001b[0m \u001b[38;5;66;03m# Compute confusion matrix\u001b[39;00m\n",
      "\u001b[0;31mImportError\u001b[0m: cannot import name 'plot_confusion_matrix' from 'sklearn.metrics._plot.confusion_matrix' (/Library/Frameworks/Python.framework/Versions/3.11/lib/python3.11/site-packages/sklearn/metrics/_plot/confusion_matrix.py)"
     ]
    }
   ],
   "source": [
    "from sklearn.metrics import confusion_matrix\n",
    "from sklearn.metrics._plot.confusion_matrix import plot_confusion_matrix\n",
    "from sklearn.metrics import confusion_matrix, plot_confusion_matrix\n",
    "\n",
    "# Compute confusion matrix\n",
    "cnf_matrix = confusion_matrix(y_test, y_pred)\n",
    "print(\"Confusion Matrix:\\n\", cnf_matrix)\n",
    "\n",
    "# Plot confusion matrix\n",
    "plot_confusion_matrix(nb_model, X_test, y_test, display_labels=iris_data.target_names)\n",
    "plt.show()"
   ]
  }
 ],
 "metadata": {
  "kernelspec": {
   "display_name": "Python 3",
   "language": "python",
   "name": "python3"
  },
  "language_info": {
   "codemirror_mode": {
    "name": "ipython",
    "version": 3
   },
   "file_extension": ".py",
   "mimetype": "text/x-python",
   "name": "python",
   "nbconvert_exporter": "python",
   "pygments_lexer": "ipython3",
   "version": "3.11.2"
  }
 },
 "nbformat": 4,
 "nbformat_minor": 2
}
